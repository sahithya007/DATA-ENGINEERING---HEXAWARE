{
 "cells": [
  {
   "cell_type": "code",
   "execution_count": 0,
   "metadata": {
    "application/vnd.databricks.v1+cell": {
     "cellMetadata": {
      "byteLimit": 2048000,
      "implicitDf": true,
      "rowLimit": 10000
     },
     "inputWidgets": {},
     "nuid": "e4c94865-df2a-44fb-aa98-3fcb9b09b02c",
     "showTitle": false,
     "tableResultSettingsMap": {},
     "title": ""
    }
   },
   "outputs": [
    {
     "output_type": "display_data",
     "data": {
      "text/html": [
       "<style scoped>\n",
       "  .table-result-container {\n",
       "    max-height: 300px;\n",
       "    overflow: auto;\n",
       "  }\n",
       "  table, th, td {\n",
       "    border: 1px solid black;\n",
       "    border-collapse: collapse;\n",
       "  }\n",
       "  th, td {\n",
       "    padding: 5px;\n",
       "  }\n",
       "  th {\n",
       "    text-align: left;\n",
       "  }\n",
       "</style><div class='table-result-container'><table class='table-result'><thead style='background-color: white'><tr><th>Region</th><th>Sales</th></tr></thead><tbody><tr><td>Central</td><td>601139.10312</td></tr><tr><td>South</td><td>327079.12146000005</td></tr><tr><td>North</td><td>300230.97200000007</td></tr><tr><td>Oceania</td><td>250065.67200000008</td></tr><tr><td>Southeast Asia</td><td>186162.92639999994</td></tr><tr><td>Central Asia</td><td>174133.401</td></tr><tr><td>EMEA</td><td>163414.36500000002</td></tr><tr><td>East</td><td>155185.86200000002</td></tr><tr><td>North Asia</td><td>152357.331</td></tr><tr><td>Africa</td><td>144480.70500000002</td></tr><tr><td>West</td><td>136838.5855</td></tr><tr><td>Caribbean</td><td>64147.57691999999</td></tr><tr><td>Canada</td><td>16096.800000000003</td></tr></tbody></table></div>"
      ]
     },
     "metadata": {
      "application/vnd.databricks.v1+output": {
       "addedWidgets": {},
       "aggData": [],
       "aggError": "",
       "aggOverflow": false,
       "aggSchema": [],
       "aggSeriesLimitReached": false,
       "aggType": "",
       "arguments": {},
       "columnCustomDisplayInfos": {},
       "data": [
        [
         "Central",
         601139.10312
        ],
        [
         "South",
         327079.12146000005
        ],
        [
         "North",
         300230.97200000007
        ],
        [
         "Oceania",
         250065.67200000008
        ],
        [
         "Southeast Asia",
         186162.92639999994
        ],
        [
         "Central Asia",
         174133.401
        ],
        [
         "EMEA",
         163414.36500000002
        ],
        [
         "East",
         155185.86200000002
        ],
        [
         "North Asia",
         152357.331
        ],
        [
         "Africa",
         144480.70500000002
        ],
        [
         "West",
         136838.5855
        ],
        [
         "Caribbean",
         64147.57691999999
        ],
        [
         "Canada",
         16096.800000000003
        ]
       ],
       "datasetInfos": [],
       "dbfsResultPath": null,
       "isJsonSchema": true,
       "metadata": {
        "createTempViewForImplicitDf": true,
        "dataframeName": "_sqldf",
        "executionCount": 1
       },
       "overflow": false,
       "plotOptions": {
        "customPlotOptions": {},
        "displayType": "table",
        "pivotAggregation": null,
        "pivotColumns": null,
        "xColumns": null,
        "yColumns": null
       },
       "removedWidgets": [],
       "schema": [
        {
         "metadata": "{}",
         "name": "Region",
         "type": "\"string\""
        },
        {
         "metadata": "{}",
         "name": "Sales",
         "type": "\"double\""
        }
       ],
       "type": "table"
      }
     },
     "output_type": "display_data"
    },
    {
     "output_type": "display_data",
     "data": {
      "text/plain": [
       "Databricks visualization. Run in Databricks to view."
      ]
     },
     "metadata": {
      "application/vnd.databricks.v1.subcommand+json": {
       "baseErrorDetails": null,
       "bindings": {},
       "collapsed": false,
       "command": "%sql WITH q AS (SELECT Region, SUM(TotalSales) AS Sales\nFROM transformed_data\nGROUP BY Region\nORDER BY Sales DESC) SELECT `Region`,SUM(`Sales`) `column_c9672ab451` FROM q GROUP BY `Region`",
       "commandTitle": "Visualization 1",
       "commandType": "auto",
       "commandVersion": 0,
       "commentThread": [],
       "commentsVisible": false,
       "contentSha256Hex": null,
       "customPlotOptions": {
        "redashChart": [
         {
          "key": "type",
          "value": "CHART"
         },
         {
          "key": "options",
          "value": {
           "alignYAxesAtZero": true,
           "coefficient": 1,
           "columnConfigurationMap": {
            "x": {
             "column": "Region",
             "id": "column_c9672ab450"
            },
            "y": [
             {
              "column": "Sales",
              "id": "column_c9672ab451",
              "transform": "SUM"
             }
            ]
           },
           "dateTimeFormat": "DD/MM/YYYY HH:mm",
           "direction": {
            "type": "counterclockwise"
           },
           "error_y": {
            "type": "data",
            "visible": true
           },
           "globalSeriesType": "column",
           "legend": {
            "traceorder": "normal"
           },
           "missingValuesAsZero": true,
           "numberFormat": "0,0.[00000]",
           "percentFormat": "0[.]00%",
           "series": {
            "error_y": {
             "type": "data",
             "visible": true
            },
            "stacking": null
           },
           "seriesOptions": {
            "column_c9672ab451": {
             "name": "Sales",
             "yAxis": 0
            }
           },
           "showDataLabels": false,
           "sizemode": "diameter",
           "sortX": true,
           "sortY": true,
           "swappedAxes": true,
           "textFormat": "",
           "useAggregationsUi": true,
           "valuesOptions": {},
           "version": 2,
           "xAxis": {
            "labels": {
             "enabled": true
            },
            "type": "-"
           },
           "yAxis": [
            {
             "type": "-"
            },
            {
             "opposite": true,
             "type": "-"
            }
           ]
          }
         }
        ]
       },
       "datasetPreviewNameToCmdIdMap": {},
       "diffDeletes": [],
       "diffInserts": [],
       "displayType": "redashChart",
       "error": null,
       "errorDetails": null,
       "errorSummary": null,
       "errorTraceType": null,
       "finishTime": 0,
       "globalVars": {},
       "guid": "",
       "height": "auto",
       "hideCommandCode": false,
       "hideCommandResult": false,
       "iPythonMetadata": null,
       "inputWidgets": {},
       "isLockedInExamMode": false,
       "latestUser": "a user",
       "latestUserId": null,
       "listResultMetadata": null,
       "metadata": {
        "byteLimit": 2048000,
        "implicitDf": true,
        "rowLimit": 10000
       },
       "nuid": "7cdc5682-cac2-4453-a563-f4202851b7f1",
       "origId": 0,
       "parentHierarchy": [],
       "pivotAggregation": null,
       "pivotColumns": null,
       "position": 2.0,
       "resultDbfsErrorMessage": null,
       "resultDbfsStatus": "INLINED_IN_TREE",
       "results": null,
       "showCommandTitle": false,
       "startTime": 0,
       "state": "finished",
       "streamStates": {},
       "subcommandOptions": {
        "queryPlan": {
         "groups": [
          {
           "column": "Region",
           "type": "column"
          }
         ],
         "selects": [
          {
           "column": "Region",
           "type": "column"
          },
          {
           "alias": "column_c9672ab451",
           "args": [
            {
             "column": "Sales",
             "type": "column"
            }
           ],
           "function": "SUM",
           "type": "function"
          }
         ]
        }
       },
       "submitTime": 0,
       "subtype": "tableResultSubCmd.visualization",
       "tableResultIndex": 0,
       "tableResultSettingsMap": {},
       "useConsistentColors": false,
       "version": "CommandV1",
       "width": "auto",
       "workflows": [],
       "xColumns": null,
       "yColumns": null
      }
     },
     "output_type": "display_data"
    }
   ],
   "source": [
    "%sql\n",
    "--Top 5 Regions by Total Sales\n",
    "SELECT Region, SUM(TotalSales) AS Sales\n",
    "FROM transformed_data\n",
    "GROUP BY Region\n",
    "ORDER BY Sales DESC;\n"
   ]
  },
  {
   "cell_type": "code",
   "execution_count": 0,
   "metadata": {
    "application/vnd.databricks.v1+cell": {
     "cellMetadata": {
      "byteLimit": 2048000,
      "implicitDf": true,
      "rowLimit": 10000
     },
     "inputWidgets": {},
     "nuid": "0f3900f7-02cf-4f42-9b4e-66999842a1e6",
     "showTitle": false,
     "tableResultSettingsMap": {},
     "title": ""
    }
   },
   "outputs": [
    {
     "output_type": "display_data",
     "data": {
      "text/html": [
       "<style scoped>\n",
       "  .table-result-container {\n",
       "    max-height: 300px;\n",
       "    overflow: auto;\n",
       "  }\n",
       "  table, th, td {\n",
       "    border: 1px solid black;\n",
       "    border-collapse: collapse;\n",
       "  }\n",
       "  th, td {\n",
       "    padding: 5px;\n",
       "  }\n",
       "  th {\n",
       "    text-align: left;\n",
       "  }\n",
       "</style><div class='table-result-container'><table class='table-result'><thead style='background-color: white'><tr><th>Category</th><th>AvgProfitMargin</th></tr></thead><tbody><tr><td>Technology</td><td>15.655823371487447</td></tr><tr><td>Office Supplies</td><td>14.744541441247012</td></tr><tr><td>Furniture</td><td>8.14017007826559</td></tr></tbody></table></div>"
      ]
     },
     "metadata": {
      "application/vnd.databricks.v1+output": {
       "addedWidgets": {},
       "aggData": [],
       "aggError": "",
       "aggOverflow": false,
       "aggSchema": [],
       "aggSeriesLimitReached": false,
       "aggType": "",
       "arguments": {},
       "columnCustomDisplayInfos": {},
       "data": [
        [
         "Technology",
         15.655823371487447
        ],
        [
         "Office Supplies",
         14.744541441247012
        ],
        [
         "Furniture",
         8.14017007826559
        ]
       ],
       "datasetInfos": [],
       "dbfsResultPath": null,
       "isJsonSchema": true,
       "metadata": {
        "createTempViewForImplicitDf": true,
        "dataframeName": "_sqldf",
        "executionCount": 2
       },
       "overflow": false,
       "plotOptions": {
        "customPlotOptions": {},
        "displayType": "table",
        "pivotAggregation": null,
        "pivotColumns": null,
        "xColumns": null,
        "yColumns": null
       },
       "removedWidgets": [],
       "schema": [
        {
         "metadata": "{}",
         "name": "Category",
         "type": "\"string\""
        },
        {
         "metadata": "{}",
         "name": "AvgProfitMargin",
         "type": "\"double\""
        }
       ],
       "type": "table"
      }
     },
     "output_type": "display_data"
    },
    {
     "output_type": "display_data",
     "data": {
      "text/plain": [
       "Databricks visualization. Run in Databricks to view."
      ]
     },
     "metadata": {
      "application/vnd.databricks.v1.subcommand+json": {
       "baseErrorDetails": null,
       "bindings": {},
       "collapsed": false,
       "command": "%sql WITH q AS (SELECT Category, AVG(TotalProfit / TotalSales * 100) AS AvgProfitMargin\nFROM transformed_data\nGROUP BY Category\nORDER BY AvgProfitMargin DESC) SELECT `Category`,SUM(`AvgProfitMargin`) `column_c9672ab453` FROM q GROUP BY `Category`",
       "commandTitle": "Visualization 1",
       "commandType": "auto",
       "commandVersion": 0,
       "commentThread": [],
       "commentsVisible": false,
       "contentSha256Hex": null,
       "customPlotOptions": {
        "redashChart": [
         {
          "key": "type",
          "value": "CHART"
         },
         {
          "key": "options",
          "value": {
           "alignYAxesAtZero": true,
           "coefficient": 1,
           "columnConfigurationMap": {
            "x": {
             "column": "Category",
             "id": "column_c9672ab452"
            },
            "y": [
             {
              "column": "AvgProfitMargin",
              "id": "column_c9672ab453",
              "transform": "SUM"
             }
            ]
           },
           "dateTimeFormat": "DD/MM/YYYY HH:mm",
           "direction": {
            "type": "counterclockwise"
           },
           "error_y": {
            "type": "data",
            "visible": true
           },
           "globalSeriesType": "pie",
           "legend": {
            "traceorder": "normal"
           },
           "missingValuesAsZero": true,
           "numberFormat": "0,0.[00000]",
           "percentFormat": "0[.]00%",
           "series": {
            "error_y": {
             "type": "data",
             "visible": true
            },
            "stacking": null
           },
           "seriesOptions": {
            "column_c9672ab453": {
             "name": "AvgProfitMargin",
             "type": "pie",
             "yAxis": 0
            }
           },
           "showDataLabels": true,
           "sizemode": "diameter",
           "sortX": true,
           "sortY": true,
           "swappedAxes": false,
           "textFormat": "",
           "useAggregationsUi": true,
           "valuesOptions": {},
           "version": 2,
           "xAxis": {
            "labels": {
             "enabled": true
            },
            "type": "-"
           },
           "yAxis": [
            {
             "type": "-"
            },
            {
             "opposite": true,
             "type": "-"
            }
           ]
          }
         }
        ]
       },
       "datasetPreviewNameToCmdIdMap": {},
       "diffDeletes": [],
       "diffInserts": [],
       "displayType": "redashChart",
       "error": null,
       "errorDetails": null,
       "errorSummary": null,
       "errorTraceType": null,
       "finishTime": 0,
       "globalVars": {},
       "guid": "",
       "height": "auto",
       "hideCommandCode": false,
       "hideCommandResult": false,
       "iPythonMetadata": null,
       "inputWidgets": {},
       "isLockedInExamMode": false,
       "latestUser": "a user",
       "latestUserId": null,
       "listResultMetadata": null,
       "metadata": {
        "byteLimit": 2048000,
        "implicitDf": true,
        "rowLimit": 10000
       },
       "nuid": "677796e4-66e3-4712-8b29-ed4b2d388810",
       "origId": 0,
       "parentHierarchy": [],
       "pivotAggregation": null,
       "pivotColumns": null,
       "position": 3.0,
       "resultDbfsErrorMessage": null,
       "resultDbfsStatus": "INLINED_IN_TREE",
       "results": null,
       "showCommandTitle": false,
       "startTime": 0,
       "state": "finished",
       "streamStates": {},
       "subcommandOptions": {
        "queryPlan": {
         "groups": [
          {
           "column": "Category",
           "type": "column"
          }
         ],
         "selects": [
          {
           "column": "Category",
           "type": "column"
          },
          {
           "alias": "column_c9672ab453",
           "args": [
            {
             "column": "AvgProfitMargin",
             "type": "column"
            }
           ],
           "function": "SUM",
           "type": "function"
          }
         ]
        }
       },
       "submitTime": 0,
       "subtype": "tableResultSubCmd.visualization",
       "tableResultIndex": 0,
       "tableResultSettingsMap": {},
       "useConsistentColors": false,
       "version": "CommandV1",
       "width": "auto",
       "workflows": [],
       "xColumns": null,
       "yColumns": null
      }
     },
     "output_type": "display_data"
    }
   ],
   "source": [
    "%sql\n",
    "--Top Categories by Profit Margin\n",
    "SELECT Category, AVG(TotalProfit / TotalSales * 100) AS AvgProfitMargin\n",
    "FROM transformed_data\n",
    "GROUP BY Category\n",
    "ORDER BY AvgProfitMargin DESC;\n"
   ]
  },
  {
   "cell_type": "code",
   "execution_count": 0,
   "metadata": {
    "application/vnd.databricks.v1+cell": {
     "cellMetadata": {
      "byteLimit": 2048000,
      "implicitDf": true,
      "rowLimit": 10000
     },
     "inputWidgets": {},
     "nuid": "b72d1e75-e6a2-48b4-abd7-0997fda5e60f",
     "showTitle": false,
     "tableResultSettingsMap": {},
     "title": ""
    }
   },
   "outputs": [
    {
     "output_type": "display_data",
     "data": {
      "text/html": [
       "<style scoped>\n",
       "  .table-result-container {\n",
       "    max-height: 300px;\n",
       "    overflow: auto;\n",
       "  }\n",
       "  table, th, td {\n",
       "    border: 1px solid black;\n",
       "    border-collapse: collapse;\n",
       "  }\n",
       "  th, td {\n",
       "    padding: 5px;\n",
       "  }\n",
       "  th {\n",
       "    text-align: left;\n",
       "  }\n",
       "</style><div class='table-result-container'><table class='table-result'><thead style='background-color: white'><tr><th>Region</th><th>Year</th><th>Sales</th></tr></thead><tbody><tr><td>Africa</td><td>2012</td><td>144480.70500000002</td></tr><tr><td>Canada</td><td>2012</td><td>16096.800000000003</td></tr><tr><td>Caribbean</td><td>2012</td><td>64147.57691999999</td></tr><tr><td>Central</td><td>2012</td><td>601139.10312</td></tr><tr><td>Central Asia</td><td>2012</td><td>174133.401</td></tr><tr><td>EMEA</td><td>2012</td><td>163414.36500000002</td></tr><tr><td>East</td><td>2012</td><td>155185.86200000002</td></tr><tr><td>North</td><td>2012</td><td>300230.97200000007</td></tr><tr><td>North Asia</td><td>2012</td><td>152357.331</td></tr><tr><td>Oceania</td><td>2012</td><td>250065.67200000008</td></tr><tr><td>South</td><td>2012</td><td>327079.12146000005</td></tr><tr><td>Southeast Asia</td><td>2012</td><td>186162.92639999994</td></tr><tr><td>West</td><td>2012</td><td>136838.5855</td></tr></tbody></table></div>"
      ]
     },
     "metadata": {
      "application/vnd.databricks.v1+output": {
       "addedWidgets": {},
       "aggData": [],
       "aggError": "",
       "aggOverflow": false,
       "aggSchema": [],
       "aggSeriesLimitReached": false,
       "aggType": "",
       "arguments": {},
       "columnCustomDisplayInfos": {},
       "data": [
        [
         "Africa",
         2012,
         144480.70500000002
        ],
        [
         "Canada",
         2012,
         16096.800000000003
        ],
        [
         "Caribbean",
         2012,
         64147.57691999999
        ],
        [
         "Central",
         2012,
         601139.10312
        ],
        [
         "Central Asia",
         2012,
         174133.401
        ],
        [
         "EMEA",
         2012,
         163414.36500000002
        ],
        [
         "East",
         2012,
         155185.86200000002
        ],
        [
         "North",
         2012,
         300230.97200000007
        ],
        [
         "North Asia",
         2012,
         152357.331
        ],
        [
         "Oceania",
         2012,
         250065.67200000008
        ],
        [
         "South",
         2012,
         327079.12146000005
        ],
        [
         "Southeast Asia",
         2012,
         186162.92639999994
        ],
        [
         "West",
         2012,
         136838.5855
        ]
       ],
       "datasetInfos": [],
       "dbfsResultPath": null,
       "isJsonSchema": true,
       "metadata": {
        "createTempViewForImplicitDf": true,
        "dataframeName": "_sqldf",
        "executionCount": 3
       },
       "overflow": false,
       "plotOptions": {
        "customPlotOptions": {},
        "displayType": "table",
        "pivotAggregation": null,
        "pivotColumns": null,
        "xColumns": null,
        "yColumns": null
       },
       "removedWidgets": [],
       "schema": [
        {
         "metadata": "{}",
         "name": "Region",
         "type": "\"string\""
        },
        {
         "metadata": "{}",
         "name": "Year",
         "type": "\"integer\""
        },
        {
         "metadata": "{}",
         "name": "Sales",
         "type": "\"double\""
        }
       ],
       "type": "table"
      }
     },
     "output_type": "display_data"
    },
    {
     "output_type": "display_data",
     "data": {
      "text/plain": [
       "Databricks visualization. Run in Databricks to view."
      ]
     },
     "metadata": {
      "application/vnd.databricks.v1.subcommand+json": {
       "baseErrorDetails": null,
       "bindings": {},
       "collapsed": false,
       "command": "%sql WITH q AS (SELECT Region, Year, SUM(TotalSales) AS Sales\nFROM transformed_data\nGROUP BY Region, Year\nORDER BY Region, Year) SELECT `Sales`,`Sales`,`Region`,`Region` FROM q",
       "commandTitle": "Visualization 1",
       "commandType": "auto",
       "commandVersion": 0,
       "commentThread": [],
       "commentsVisible": false,
       "contentSha256Hex": null,
       "customPlotOptions": {
        "redashChart": [
         {
          "key": "type",
          "value": "CHART"
         },
         {
          "key": "options",
          "value": {
           "alignYAxesAtZero": true,
           "coefficient": 1,
           "columnConfigurationMap": {
            "series": {
             "column": "Region",
             "id": "column_c9672ab459"
            },
            "x": {
             "column": "Sales",
             "id": "column_c9672ab461"
            },
            "y": [
             {
              "column": "Sales",
              "id": "column_c9672ab462"
             },
             {
              "column": "Region",
              "id": "column_c9672ab463"
             }
            ]
           },
           "dateTimeFormat": "DD/MM/YYYY HH:mm",
           "direction": {
            "type": "counterclockwise"
           },
           "error_y": {
            "type": "data",
            "visible": true
           },
           "globalSeriesType": "scatter",
           "legend": {
            "traceorder": "normal"
           },
           "missingValuesAsZero": true,
           "numberFormat": "0,0.[00000]",
           "percentFormat": "0[.]00%",
           "series": {
            "error_y": {
             "type": "data",
             "visible": true
            },
            "stacking": null
           },
           "seriesOptions": {
            "Region": {
             "type": "scatter",
             "yAxis": 0
            },
            "Sales": {
             "type": "scatter",
             "yAxis": 0
            },
            "column_c9672ab458": {
             "name": "Sales",
             "yAxis": 0
            }
           },
           "showDataLabels": false,
           "sizemode": "diameter",
           "sortX": true,
           "sortY": true,
           "swappedAxes": false,
           "textFormat": "",
           "useAggregationsUi": true,
           "valuesOptions": {},
           "version": 2,
           "xAxis": {
            "labels": {
             "enabled": true
            },
            "type": "-"
           },
           "yAxis": [
            {
             "type": "-"
            },
            {
             "opposite": true,
             "type": "-"
            }
           ]
          }
         }
        ]
       },
       "datasetPreviewNameToCmdIdMap": {},
       "diffDeletes": [],
       "diffInserts": [],
       "displayType": "redashChart",
       "error": null,
       "errorDetails": null,
       "errorSummary": null,
       "errorTraceType": null,
       "finishTime": 0,
       "globalVars": {},
       "guid": "",
       "height": "auto",
       "hideCommandCode": false,
       "hideCommandResult": false,
       "iPythonMetadata": null,
       "inputWidgets": {},
       "isLockedInExamMode": false,
       "latestUser": "a user",
       "latestUserId": null,
       "listResultMetadata": null,
       "metadata": {
        "byteLimit": 2048000,
        "implicitDf": true,
        "rowLimit": 10000
       },
       "nuid": "e5093b23-cda2-4823-9074-e80fd528a8dc",
       "origId": 0,
       "parentHierarchy": [],
       "pivotAggregation": null,
       "pivotColumns": null,
       "position": 4.0,
       "resultDbfsErrorMessage": null,
       "resultDbfsStatus": "INLINED_IN_TREE",
       "results": null,
       "showCommandTitle": false,
       "startTime": 0,
       "state": "finished",
       "streamStates": {},
       "subcommandOptions": {
        "queryPlan": {
         "selects": [
          {
           "column": "Sales",
           "type": "column"
          },
          {
           "column": "Sales",
           "type": "column"
          },
          {
           "column": "Region",
           "type": "column"
          },
          {
           "column": "Region",
           "type": "column"
          }
         ]
        }
       },
       "submitTime": 0,
       "subtype": "tableResultSubCmd.visualization",
       "tableResultIndex": 0,
       "tableResultSettingsMap": {},
       "useConsistentColors": false,
       "version": "CommandV1",
       "width": "auto",
       "workflows": [],
       "xColumns": null,
       "yColumns": null
      }
     },
     "output_type": "display_data"
    }
   ],
   "source": [
    "%sql\n",
    "--Year-over-Year Sales Growth\n",
    "SELECT Region, Year, SUM(TotalSales) AS Sales\n",
    "FROM transformed_data\n",
    "GROUP BY Region, Year\n",
    "ORDER BY Region, Year;\n",
    "\n"
   ]
  },
  {
   "cell_type": "code",
   "execution_count": 0,
   "metadata": {
    "application/vnd.databricks.v1+cell": {
     "cellMetadata": {
      "byteLimit": 2048000,
      "implicitDf": true,
      "rowLimit": 10000
     },
     "inputWidgets": {},
     "nuid": "0d7893bc-6b19-4322-8193-2248af52cbf0",
     "showTitle": false,
     "tableResultSettingsMap": {},
     "title": ""
    }
   },
   "outputs": [
    {
     "output_type": "display_data",
     "data": {
      "text/html": [
       "<style scoped>\n",
       "  .table-result-container {\n",
       "    max-height: 300px;\n",
       "    overflow: auto;\n",
       "  }\n",
       "  table, th, td {\n",
       "    border: 1px solid black;\n",
       "    border-collapse: collapse;\n",
       "  }\n",
       "  th, td {\n",
       "    padding: 5px;\n",
       "  }\n",
       "  th {\n",
       "    text-align: left;\n",
       "  }\n",
       "</style><div class='table-result-container'><table class='table-result'><thead style='background-color: white'><tr><th>Region</th><th>TotalDiscount</th></tr></thead><tbody><tr><td>Central</td><td>344.6820000000001</td></tr><tr><td>West</td><td>262.3340000000002</td></tr><tr><td>South</td><td>229.54600000000016</td></tr><tr><td>EMEA</td><td>226.69999999999976</td></tr><tr><td>Southeast Asia</td><td>171.72000000000006</td></tr><tr><td>East</td><td>166.7000000000001</td></tr><tr><td>Africa</td><td>152.40000000000015</td></tr><tr><td>Oceania</td><td>117.30000000000001</td></tr><tr><td>North</td><td>94.77799999999993</td></tr><tr><td>Caribbean</td><td>45.44799999999999</td></tr><tr><td>Central Asia</td><td>26.7</td></tr><tr><td>North Asia</td><td>21.9</td></tr><tr><td>Canada</td><td>0.0</td></tr></tbody></table></div>"
      ]
     },
     "metadata": {
      "application/vnd.databricks.v1+output": {
       "addedWidgets": {},
       "aggData": [],
       "aggError": "",
       "aggOverflow": false,
       "aggSchema": [],
       "aggSeriesLimitReached": false,
       "aggType": "",
       "arguments": {},
       "columnCustomDisplayInfos": {},
       "data": [
        [
         "Central",
         344.6820000000001
        ],
        [
         "West",
         262.3340000000002
        ],
        [
         "South",
         229.54600000000016
        ],
        [
         "EMEA",
         226.69999999999976
        ],
        [
         "Southeast Asia",
         171.72000000000006
        ],
        [
         "East",
         166.7000000000001
        ],
        [
         "Africa",
         152.40000000000015
        ],
        [
         "Oceania",
         117.30000000000001
        ],
        [
         "North",
         94.77799999999993
        ],
        [
         "Caribbean",
         45.44799999999999
        ],
        [
         "Central Asia",
         26.7
        ],
        [
         "North Asia",
         21.9
        ],
        [
         "Canada",
         0.0
        ]
       ],
       "datasetInfos": [],
       "dbfsResultPath": null,
       "isJsonSchema": true,
       "metadata": {
        "createTempViewForImplicitDf": true,
        "dataframeName": "_sqldf",
        "executionCount": 4
       },
       "overflow": false,
       "plotOptions": {
        "customPlotOptions": {},
        "displayType": "table",
        "pivotAggregation": null,
        "pivotColumns": null,
        "xColumns": null,
        "yColumns": null
       },
       "removedWidgets": [],
       "schema": [
        {
         "metadata": "{}",
         "name": "Region",
         "type": "\"string\""
        },
        {
         "metadata": "{}",
         "name": "TotalDiscount",
         "type": "\"double\""
        }
       ],
       "type": "table"
      }
     },
     "output_type": "display_data"
    },
    {
     "output_type": "display_data",
     "data": {
      "text/plain": [
       "Databricks visualization. Run in Databricks to view."
      ]
     },
     "metadata": {
      "application/vnd.databricks.v1.subcommand+json": {
       "baseErrorDetails": null,
       "bindings": {},
       "collapsed": false,
       "command": "%sql WITH q AS (SELECT Region, SUM(TotalDiscount) AS TotalDiscount\nFROM transformed_data\nGROUP BY Region\nORDER BY TotalDiscount DESC) SELECT `Region`,SUM(`TotalDiscount`) `column_c9672ab467` FROM q GROUP BY `Region`",
       "commandTitle": "Visualization 1",
       "commandType": "auto",
       "commandVersion": 0,
       "commentThread": [],
       "commentsVisible": false,
       "contentSha256Hex": null,
       "customPlotOptions": {
        "redashChart": [
         {
          "key": "type",
          "value": "CHART"
         },
         {
          "key": "options",
          "value": {
           "alignYAxesAtZero": true,
           "coefficient": 1,
           "columnConfigurationMap": {
            "x": {
             "column": "Region",
             "id": "column_c9672ab469"
            },
            "y": [
             {
              "column": "TotalDiscount",
              "id": "column_c9672ab467",
              "transform": "SUM"
             }
            ]
           },
           "dateTimeFormat": "DD/MM/YYYY HH:mm",
           "direction": {
            "type": "counterclockwise"
           },
           "error_y": {
            "type": "data",
            "visible": true
           },
           "globalSeriesType": "column",
           "isAggregationOn": true,
           "legend": {
            "traceorder": "normal"
           },
           "missingValuesAsZero": true,
           "numBins": 10,
           "numberFormat": "0,0.[00000]",
           "percentFormat": "0[.]00%",
           "series": {
            "error_y": {
             "type": "data",
             "visible": true
            },
            "stacking": null
           },
           "seriesOptions": {
            "column_c9672ab465": {
             "name": "TotalDiscount",
             "type": "column",
             "yAxis": 0
            },
            "column_c9672ab467": {
             "type": "column",
             "yAxis": 0
            }
           },
           "showDataLabels": false,
           "sizemode": "diameter",
           "sortX": true,
           "sortY": true,
           "swappedAxes": false,
           "textFormat": "",
           "useAggregationsUi": true,
           "valuesOptions": {},
           "version": 2,
           "xAxis": {
            "labels": {
             "enabled": true
            },
            "type": "-"
           },
           "yAxis": [
            {
             "type": "-"
            },
            {
             "opposite": true,
             "type": "-"
            }
           ]
          }
         }
        ]
       },
       "datasetPreviewNameToCmdIdMap": {},
       "diffDeletes": [],
       "diffInserts": [],
       "displayType": "redashChart",
       "error": null,
       "errorDetails": null,
       "errorSummary": null,
       "errorTraceType": null,
       "finishTime": 0,
       "globalVars": {},
       "guid": "",
       "height": "auto",
       "hideCommandCode": false,
       "hideCommandResult": false,
       "iPythonMetadata": null,
       "inputWidgets": {},
       "isLockedInExamMode": false,
       "latestUser": "a user",
       "latestUserId": null,
       "listResultMetadata": null,
       "metadata": {
        "byteLimit": 2048000,
        "implicitDf": true,
        "rowLimit": 10000
       },
       "nuid": "999c635b-2898-4c5e-887d-6c8bd78de966",
       "origId": 0,
       "parentHierarchy": [],
       "pivotAggregation": null,
       "pivotColumns": null,
       "position": 5.0,
       "resultDbfsErrorMessage": null,
       "resultDbfsStatus": "INLINED_IN_TREE",
       "results": null,
       "showCommandTitle": false,
       "startTime": 0,
       "state": "finished",
       "streamStates": {},
       "subcommandOptions": {
        "queryPlan": {
         "groups": [
          {
           "column": "Region",
           "type": "column"
          }
         ],
         "selects": [
          {
           "column": "Region",
           "type": "column"
          },
          {
           "alias": "column_c9672ab467",
           "args": [
            {
             "column": "TotalDiscount",
             "type": "column"
            }
           ],
           "function": "SUM",
           "type": "function"
          }
         ]
        }
       },
       "submitTime": 0,
       "subtype": "tableResultSubCmd.visualization",
       "tableResultIndex": 0,
       "tableResultSettingsMap": {},
       "useConsistentColors": false,
       "version": "CommandV1",
       "width": "auto",
       "workflows": [],
       "xColumns": null,
       "yColumns": null
      }
     },
     "output_type": "display_data"
    }
   ],
   "source": [
    "%sql\n",
    "--Regions with Highest Discounts\n",
    "SELECT Region, SUM(TotalDiscount) AS TotalDiscount\n",
    "FROM transformed_data\n",
    "GROUP BY Region\n",
    "ORDER BY TotalDiscount DESC;\n"
   ]
  },
  {
   "cell_type": "code",
   "execution_count": 0,
   "metadata": {
    "application/vnd.databricks.v1+cell": {
     "cellMetadata": {
      "byteLimit": 2048000,
      "implicitDf": true,
      "rowLimit": 10000
     },
     "inputWidgets": {},
     "nuid": "c1a31e62-1b82-4a74-918a-43d818148337",
     "showTitle": false,
     "tableResultSettingsMap": {},
     "title": ""
    }
   },
   "outputs": [
    {
     "output_type": "display_data",
     "data": {
      "text/html": [
       "<style scoped>\n",
       "  .table-result-container {\n",
       "    max-height: 300px;\n",
       "    overflow: auto;\n",
       "  }\n",
       "  table, th, td {\n",
       "    border: 1px solid black;\n",
       "    border-collapse: collapse;\n",
       "  }\n",
       "  th, td {\n",
       "    padding: 5px;\n",
       "  }\n",
       "  th {\n",
       "    text-align: left;\n",
       "  }\n",
       "</style><div class='table-result-container'><table class='table-result'><thead style='background-color: white'><tr><th>Category</th><th>Region</th><th>TotalProfit</th></tr></thead><tbody><tr><td>Technology</td><td>Central</td><td>31373.854319999966</td></tr><tr><td>Office Supplies</td><td>Central</td><td>26988.422600000013</td></tr><tr><td>Technology</td><td>North</td><td>25098.862999999998</td></tr><tr><td>Office Supplies</td><td>North</td><td>17629.370999999996</td></tr><tr><td>Technology</td><td>Oceania</td><td>14203.827</td></tr><tr><td>Technology</td><td>Central Asia</td><td>13756.859999999999</td></tr><tr><td>Technology</td><td>North Asia</td><td>13026.855000000001</td></tr><tr><td>Technology</td><td>South</td><td>11673.361959999993</td></tr><tr><td>Office Supplies</td><td>East</td><td>11004.067599999998</td></tr><tr><td>Office Supplies</td><td>South</td><td>10905.974199999997</td></tr><tr><td>Technology</td><td>East</td><td>10097.783800000003</td></tr><tr><td>Furniture</td><td>Central Asia</td><td>10080.321000000002</td></tr><tr><td>Technology</td><td>West</td><td>8738.4009</td></tr><tr><td>Furniture</td><td>South</td><td>8656.693399999998</td></tr><tr><td>Furniture</td><td>Oceania</td><td>8623.818</td></tr><tr><td>Office Supplies</td><td>West</td><td>8587.129800000002</td></tr><tr><td>Furniture</td><td>North</td><td>8177.708000000001</td></tr><tr><td>Furniture</td><td>North Asia</td><td>7653.111</td></tr><tr><td>Office Supplies</td><td>North Asia</td><td>7340.3550000000005</td></tr><tr><td>Office Supplies</td><td>Oceania</td><td>6847.677000000001</td></tr><tr><td>Furniture</td><td>EMEA</td><td>6375.0359999999955</td></tr><tr><td>Technology</td><td>Africa</td><td>6320.742000000001</td></tr><tr><td>Technology</td><td>Southeast Asia</td><td>6068.458799999999</td></tr><tr><td>Furniture</td><td>Central</td><td>5231.0848000000005</td></tr><tr><td>Office Supplies</td><td>Central Asia</td><td>5139.900000000002</td></tr><tr><td>Office Supplies</td><td>Africa</td><td>3636.246</td></tr><tr><td>Technology</td><td>Caribbean</td><td>3489.2349199999994</td></tr><tr><td>Office Supplies</td><td>Caribbean</td><td>3274.4839999999995</td></tr><tr><td>Furniture</td><td>West</td><td>3104.637600000002</td></tr><tr><td>Office Supplies</td><td>Canada</td><td>3070.7699999999995</td></tr><tr><td>Furniture</td><td>Africa</td><td>1951.9470000000001</td></tr><tr><td>Furniture</td><td>Caribbean</td><td>1942.5379999999993</td></tr><tr><td>Technology</td><td>Canada</td><td>1526.88</td></tr><tr><td>Technology</td><td>EMEA</td><td>600.9809999999999</td></tr><tr><td>Office Supplies</td><td>Southeast Asia</td><td>293.2950000000002</td></tr><tr><td>Furniture</td><td>Canada</td><td>290.19</td></tr><tr><td>Furniture</td><td>East</td><td>-47.21319999999976</td></tr><tr><td>Office Supplies</td><td>EMEA</td><td>-1556.4419999999996</td></tr><tr><td>Furniture</td><td>Southeast Asia</td><td>-3623.6273999999994</td></tr></tbody></table></div>"
      ]
     },
     "metadata": {
      "application/vnd.databricks.v1+output": {
       "addedWidgets": {},
       "aggData": [],
       "aggError": "",
       "aggOverflow": false,
       "aggSchema": [],
       "aggSeriesLimitReached": false,
       "aggType": "",
       "arguments": {},
       "columnCustomDisplayInfos": {},
       "data": [
        [
         "Technology",
         "Central",
         31373.854319999966
        ],
        [
         "Office Supplies",
         "Central",
         26988.422600000013
        ],
        [
         "Technology",
         "North",
         25098.862999999998
        ],
        [
         "Office Supplies",
         "North",
         17629.370999999996
        ],
        [
         "Technology",
         "Oceania",
         14203.827
        ],
        [
         "Technology",
         "Central Asia",
         13756.859999999999
        ],
        [
         "Technology",
         "North Asia",
         13026.855000000001
        ],
        [
         "Technology",
         "South",
         11673.361959999993
        ],
        [
         "Office Supplies",
         "East",
         11004.067599999998
        ],
        [
         "Office Supplies",
         "South",
         10905.974199999997
        ],
        [
         "Technology",
         "East",
         10097.783800000003
        ],
        [
         "Furniture",
         "Central Asia",
         10080.321000000002
        ],
        [
         "Technology",
         "West",
         8738.4009
        ],
        [
         "Furniture",
         "South",
         8656.693399999998
        ],
        [
         "Furniture",
         "Oceania",
         8623.818
        ],
        [
         "Office Supplies",
         "West",
         8587.129800000002
        ],
        [
         "Furniture",
         "North",
         8177.708000000001
        ],
        [
         "Furniture",
         "North Asia",
         7653.111
        ],
        [
         "Office Supplies",
         "North Asia",
         7340.3550000000005
        ],
        [
         "Office Supplies",
         "Oceania",
         6847.677000000001
        ],
        [
         "Furniture",
         "EMEA",
         6375.0359999999955
        ],
        [
         "Technology",
         "Africa",
         6320.742000000001
        ],
        [
         "Technology",
         "Southeast Asia",
         6068.458799999999
        ],
        [
         "Furniture",
         "Central",
         5231.0848000000005
        ],
        [
         "Office Supplies",
         "Central Asia",
         5139.900000000002
        ],
        [
         "Office Supplies",
         "Africa",
         3636.246
        ],
        [
         "Technology",
         "Caribbean",
         3489.2349199999994
        ],
        [
         "Office Supplies",
         "Caribbean",
         3274.4839999999995
        ],
        [
         "Furniture",
         "West",
         3104.637600000002
        ],
        [
         "Office Supplies",
         "Canada",
         3070.7699999999995
        ],
        [
         "Furniture",
         "Africa",
         1951.9470000000001
        ],
        [
         "Furniture",
         "Caribbean",
         1942.5379999999993
        ],
        [
         "Technology",
         "Canada",
         1526.88
        ],
        [
         "Technology",
         "EMEA",
         600.9809999999999
        ],
        [
         "Office Supplies",
         "Southeast Asia",
         293.2950000000002
        ],
        [
         "Furniture",
         "Canada",
         290.19
        ],
        [
         "Furniture",
         "East",
         -47.21319999999976
        ],
        [
         "Office Supplies",
         "EMEA",
         -1556.4419999999996
        ],
        [
         "Furniture",
         "Southeast Asia",
         -3623.6273999999994
        ]
       ],
       "datasetInfos": [],
       "dbfsResultPath": null,
       "isJsonSchema": true,
       "metadata": {
        "createTempViewForImplicitDf": true,
        "dataframeName": "_sqldf",
        "executionCount": 5
       },
       "overflow": false,
       "plotOptions": {
        "customPlotOptions": {},
        "displayType": "table",
        "pivotAggregation": null,
        "pivotColumns": null,
        "xColumns": null,
        "yColumns": null
       },
       "removedWidgets": [],
       "schema": [
        {
         "metadata": "{}",
         "name": "Category",
         "type": "\"string\""
        },
        {
         "metadata": "{}",
         "name": "Region",
         "type": "\"string\""
        },
        {
         "metadata": "{}",
         "name": "TotalProfit",
         "type": "\"double\""
        }
       ],
       "type": "table"
      }
     },
     "output_type": "display_data"
    },
    {
     "output_type": "display_data",
     "data": {
      "text/plain": [
       "Databricks visualization. Run in Databricks to view."
      ]
     },
     "metadata": {
      "application/vnd.databricks.v1.subcommand+json": {
       "baseErrorDetails": null,
       "bindings": {},
       "collapsed": false,
       "command": "%sql WITH q AS (SELECT Category, Region, SUM(TotalProfit) AS TotalProfit\nFROM transformed_data\nGROUP BY Category, Region\nORDER BY TotalProfit DESC) SELECT `Region`,SUM(`TotalProfit`) `column_c9672ab475` FROM q GROUP BY `Region`",
       "commandTitle": "Visualization 1",
       "commandType": "auto",
       "commandVersion": 0,
       "commentThread": [],
       "commentsVisible": false,
       "contentSha256Hex": null,
       "customPlotOptions": {
        "redashChart": [
         {
          "key": "type",
          "value": "CHART"
         },
         {
          "key": "options",
          "value": {
           "alignYAxesAtZero": true,
           "coefficient": 1,
           "columnConfigurationMap": {
            "x": {
             "column": "Region",
             "id": "column_c9672ab476"
            },
            "y": [
             {
              "column": "TotalProfit",
              "id": "column_c9672ab475",
              "transform": "SUM"
             }
            ]
           },
           "dateTimeFormat": "DD/MM/YYYY HH:mm",
           "direction": {
            "type": "counterclockwise"
           },
           "error_y": {
            "type": "data",
            "visible": true
           },
           "globalSeriesType": "area",
           "isAggregationOn": true,
           "legend": {
            "traceorder": "normal"
           },
           "missingValuesAsZero": true,
           "numBins": 10,
           "numberFormat": "0,0.[00000]",
           "percentFormat": "0[.]00%",
           "series": {
            "error_y": {
             "type": "data",
             "visible": true
            },
            "stacking": null
           },
           "seriesOptions": {
            "column_c9672ab472": {
             "name": "TotalProfit",
             "type": "area",
             "yAxis": 0
            },
            "column_c9672ab475": {
             "type": "area",
             "yAxis": 0
            }
           },
           "showDataLabels": false,
           "sizemode": "diameter",
           "sortX": true,
           "sortY": true,
           "swappedAxes": false,
           "textFormat": "",
           "useAggregationsUi": true,
           "valuesOptions": {},
           "version": 2,
           "xAxis": {
            "labels": {
             "enabled": true
            },
            "type": "-"
           },
           "yAxis": [
            {
             "type": "-"
            },
            {
             "opposite": true,
             "type": "-"
            }
           ]
          }
         }
        ]
       },
       "datasetPreviewNameToCmdIdMap": {},
       "diffDeletes": [],
       "diffInserts": [],
       "displayType": "redashChart",
       "error": null,
       "errorDetails": null,
       "errorSummary": null,
       "errorTraceType": null,
       "finishTime": 0,
       "globalVars": {},
       "guid": "",
       "height": "auto",
       "hideCommandCode": false,
       "hideCommandResult": false,
       "iPythonMetadata": null,
       "inputWidgets": {},
       "isLockedInExamMode": false,
       "latestUser": "a user",
       "latestUserId": null,
       "listResultMetadata": null,
       "metadata": {
        "byteLimit": 2048000,
        "implicitDf": true,
        "rowLimit": 10000
       },
       "nuid": "a8a6bf47-9634-4822-be01-de8bdcb9b037",
       "origId": 0,
       "parentHierarchy": [],
       "pivotAggregation": null,
       "pivotColumns": null,
       "position": 6.0,
       "resultDbfsErrorMessage": null,
       "resultDbfsStatus": "INLINED_IN_TREE",
       "results": null,
       "showCommandTitle": false,
       "startTime": 0,
       "state": "finished",
       "streamStates": {},
       "subcommandOptions": {
        "queryPlan": {
         "groups": [
          {
           "column": "Region",
           "type": "column"
          }
         ],
         "selects": [
          {
           "column": "Region",
           "type": "column"
          },
          {
           "alias": "column_c9672ab475",
           "args": [
            {
             "column": "TotalProfit",
             "type": "column"
            }
           ],
           "function": "SUM",
           "type": "function"
          }
         ]
        }
       },
       "submitTime": 0,
       "subtype": "tableResultSubCmd.visualization",
       "tableResultIndex": 0,
       "tableResultSettingsMap": {},
       "useConsistentColors": false,
       "version": "CommandV1",
       "width": "auto",
       "workflows": [],
       "xColumns": null,
       "yColumns": null
      }
     },
     "output_type": "display_data"
    }
   ],
   "source": [
    "%sql\n",
    "--Most Profitable Category-Region Pair\n",
    "SELECT Category, Region, SUM(TotalProfit) AS TotalProfit\n",
    "FROM transformed_data\n",
    "GROUP BY Category, Region\n",
    "ORDER BY TotalProfit DESC;\n"
   ]
  }
 ],
 "metadata": {
  "application/vnd.databricks.v1+notebook": {
   "computePreferences": null,
   "dashboards": [],
   "environmentMetadata": {
    "base_environment": "",
    "client": "1"
   },
   "language": "python",
   "notebookMetadata": {
    "mostRecentlyExecutedCommandWithImplicitDF": {
     "commandId": 1446557314740992,
     "dataframes": [
      "_sqldf"
     ]
    },
    "pythonIndentUnit": 4
   },
   "notebookName": "Project 1 (Gold Zone)",
   "widgets": {}
  },
  "language_info": {
   "name": "python"
  }
 },
 "nbformat": 4,
 "nbformat_minor": 0
}