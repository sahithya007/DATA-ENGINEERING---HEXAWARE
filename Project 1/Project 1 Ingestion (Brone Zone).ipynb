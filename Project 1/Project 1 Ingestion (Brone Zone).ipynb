{
 "cells": [
  {
   "cell_type": "code",
   "execution_count": 0,
   "metadata": {
    "application/vnd.databricks.v1+cell": {
     "cellMetadata": {
      "byteLimit": 2048000,
      "rowLimit": 10000
     },
     "inputWidgets": {},
     "nuid": "e858432b-0ecc-42b5-b954-1ea3b14139fa",
     "showTitle": false,
     "tableResultSettingsMap": {},
     "title": ""
    }
   },
   "outputs": [
    {
     "output_type": "stream",
     "name": "stdout",
     "output_type": "stream",
     "text": [
      "/mnt/superstore has been unmounted.\n"
     ]
    },
    {
     "output_type": "execute_result",
     "data": {
      "text/plain": [
       "True"
      ]
     },
     "execution_count": 1,
     "metadata": {},
     "output_type": "execute_result"
    }
   ],
   "source": [
    "\n",
    "%python\n",
    "#Mount Azure Blob Storage\n",
    "\n",
    "# Fetching the csv file from the blob storage\n",
    "storage_account_name = \"sourceaccount1hexa\"\n",
    "container_name = \"superstore-data\"\n",
    "storage_account_key = \"ooZRQBCJR9AwKPvv5YvKprjv3UlGndcovcyJcjT4dVN8DbxojxsSgLojGldlb4O0ZMJd1AqFqrY2+AStj31gDQ==\"\n",
    "\n",
    "# Unmount the directory if it is already mounted\n",
    "if any(mount.mountPoint == \"/mnt/superstore\" for mount in dbutils.fs.mounts()):\n",
    "    dbutils.fs.unmount(\"/mnt/superstore\")\n",
    "\n",
    "# Mount Blob Storage\n",
    "dbutils.fs.mount(\n",
    "    source=f\"wasbs://{container_name}@{storage_account_name}.blob.core.windows.net\",\n",
    "    mount_point=\"/mnt/superstore\",\n",
    "    extra_configs={\n",
    "        f\"fs.azure.account.key.{storage_account_name}.blob.core.windows.net\": storage_account_key\n",
    "    }\n",
    ")"
   ]
  },
  {
   "cell_type": "code",
   "execution_count": 0,
   "metadata": {
    "application/vnd.databricks.v1+cell": {
     "cellMetadata": {
      "byteLimit": 2048000,
      "rowLimit": 10000
     },
     "inputWidgets": {},
     "nuid": "d934f485-9a29-47e3-b066-c597d80210ab",
     "showTitle": false,
     "tableResultSettingsMap": {},
     "title": ""
    }
   },
   "outputs": [
    {
     "output_type": "display_data",
     "data": {
      "text/html": [
       "<style scoped>\n",
       "  .table-result-container {\n",
       "    max-height: 300px;\n",
       "    overflow: auto;\n",
       "  }\n",
       "  table, th, td {\n",
       "    border: 1px solid black;\n",
       "    border-collapse: collapse;\n",
       "  }\n",
       "  th, td {\n",
       "    padding: 5px;\n",
       "  }\n",
       "  th {\n",
       "    text-align: left;\n",
       "  }\n",
       "</style><div class='table-result-container'><table class='table-result'><thead style='background-color: white'><tr><th>path</th><th>name</th><th>size</th><th>modificationTime</th></tr></thead><tbody><tr><td>dbfs:/mnt/superstore/Global_Superstore2.csv</td><td>Global_Superstore2.csv</td><td>12089916</td><td>1734265964000</td></tr></tbody></table></div>"
      ]
     },
     "metadata": {
      "application/vnd.databricks.v1+output": {
       "addedWidgets": {},
       "aggData": [],
       "aggError": "",
       "aggOverflow": false,
       "aggSchema": [],
       "aggSeriesLimitReached": false,
       "aggType": "",
       "arguments": {},
       "columnCustomDisplayInfos": {},
       "data": [
        [
         "dbfs:/mnt/superstore/Global_Superstore2.csv",
         "Global_Superstore2.csv",
         12089916,
         1734265964000
        ]
       ],
       "datasetInfos": [],
       "dbfsResultPath": null,
       "isJsonSchema": true,
       "metadata": {},
       "overflow": false,
       "plotOptions": {
        "customPlotOptions": {},
        "displayType": "table",
        "pivotAggregation": null,
        "pivotColumns": null,
        "xColumns": null,
        "yColumns": null
       },
       "removedWidgets": [],
       "schema": [
        {
         "metadata": "{}",
         "name": "path",
         "type": "\"string\""
        },
        {
         "metadata": "{}",
         "name": "name",
         "type": "\"string\""
        },
        {
         "metadata": "{}",
         "name": "size",
         "type": "\"long\""
        },
        {
         "metadata": "{}",
         "name": "modificationTime",
         "type": "\"long\""
        }
       ],
       "type": "table"
      }
     },
     "output_type": "display_data"
    }
   ],
   "source": [
    "#verifying the mount\n",
    "\n",
    "display(dbutils.fs.ls(\"/mnt/superstore\"))"
   ]
  },
  {
   "cell_type": "code",
   "execution_count": 0,
   "metadata": {
    "application/vnd.databricks.v1+cell": {
     "cellMetadata": {
      "byteLimit": 2048000,
      "rowLimit": 10000
     },
     "inputWidgets": {},
     "nuid": "284f8717-6fc0-447f-90e3-e43d2a3b11d0",
     "showTitle": false,
     "tableResultSettingsMap": {},
     "title": ""
    }
   },
   "outputs": [
    {
     "output_type": "stream",
     "name": "stdout",
     "output_type": "stream",
     "text": [
      "+------+---------------+----------+----------+------------+-----------+----------------+-----------+-------------+---------------+-------------+-----------+------+-------+----------------+----------+------------+--------------------+--------+--------+--------+--------+-------------+--------------+\n|Row ID|       Order ID|Order Date| Ship Date|   Ship Mode|Customer ID|   Customer Name|    Segment|         City|          State|      Country|Postal Code|Market| Region|      Product ID|  Category|Sub-Category|        Product Name|   Sales|Quantity|Discount|  Profit|Shipping Cost|Order Priority|\n+------+---------------+----------+----------+------------+-----------+----------------+-----------+-------------+---------------+-------------+-----------+------+-------+----------------+----------+------------+--------------------+--------+--------+--------+--------+-------------+--------------+\n| 32298| CA-2012-124891|2012-07-31|2012-07-31|    Same Day|   RH-19495|     Rick Hansen|   Consumer|New York City|       New York|United States|      10024|    US|   East| TEC-AC-10003033|Technology| Accessories|Plantronics CS510...| 2309.65|       7|       0|762.1845|       933.57|      Critical|\n| 26341|  IN-2013-77878|2013-02-05|2013-02-07|Second Class|   JR-16210|   Justin Ritter|  Corporate|   Wollongong|New South Wales|    Australia|       NULL|  APAC|Oceania| FUR-CH-10003950| Furniture|      Chairs|Novimex Executive...|3709.395|       9|     0.1|-288.765|       923.63|      Critical|\n| 25330|  IN-2013-71249|2013-10-17|2013-10-18| First Class|   CR-12730|    Craig Reiter|   Consumer|     Brisbane|     Queensland|    Australia|       NULL|  APAC|Oceania| TEC-PH-10004664|Technology|      Phones|Nokia Smart Phone...|5175.171|       9|     0.1| 919.971|       915.49|        Medium|\n| 13524|ES-2013-1579342|2013-01-28|2013-01-30| First Class|   KM-16375|Katherine Murray|Home Office|       Berlin|         Berlin|      Germany|       NULL|    EU|Central| TEC-PH-10004583|Technology|      Phones|Motorola Smart Ph...| 2892.51|       5|     0.1|  -96.54|       910.16|        Medium|\n| 47221|   SG-2013-4320|2013-11-05|2013-11-06|    Same Day|    RH-9495|     Rick Hansen|   Consumer|        Dakar|          Dakar|      Senegal|       NULL|Africa| Africa|TEC-SHA-10000501|Technology|     Copiers|Sharp Wireless Fa...| 2832.96|       8|       0|  311.52|       903.04|      Critical|\n+------+---------------+----------+----------+------------+-----------+----------------+-----------+-------------+---------------+-------------+-----------+------+-------+----------------+----------+------------+--------------------+--------+--------+--------+--------+-------------+--------------+\nonly showing top 5 rows\n\n"
     ]
    }
   ],
   "source": [
    "# Load the dataset\n",
    "from pyspark.sql import SparkSession\n",
    "spark = SparkSession.builder.appName(\"SuperstoreETL\").getOrCreate()\n",
    "\n",
    "file_path = \"/mnt/superstore/Global_Superstore2.csv\"\n",
    "df = spark.read.csv(file_path, header=True, inferSchema=True)\n",
    "df.show(5)\n"
   ]
  },
  {
   "cell_type": "code",
   "execution_count": 0,
   "metadata": {
    "application/vnd.databricks.v1+cell": {
     "cellMetadata": {
      "byteLimit": 2048000,
      "rowLimit": 10000
     },
     "inputWidgets": {},
     "nuid": "a03124f7-97b9-499f-869e-4056ed8de90d",
     "showTitle": false,
     "tableResultSettingsMap": {},
     "title": ""
    }
   },
   "outputs": [
    {
     "output_type": "stream",
     "name": "stdout",
     "output_type": "stream",
     "text": [
      "root\n |-- Row ID: integer (nullable = true)\n |-- Order ID: string (nullable = true)\n |-- Order Date: date (nullable = true)\n |-- Ship Date: date (nullable = true)\n |-- Ship Mode: string (nullable = true)\n |-- Customer ID: string (nullable = true)\n |-- Customer Name: string (nullable = true)\n |-- Segment: string (nullable = true)\n |-- City: string (nullable = true)\n |-- State: string (nullable = true)\n |-- Country: string (nullable = true)\n |-- Postal Code: integer (nullable = true)\n |-- Market: string (nullable = true)\n |-- Region: string (nullable = true)\n |-- Product ID: string (nullable = true)\n |-- Category: string (nullable = true)\n |-- Sub-Category: string (nullable = true)\n |-- Product Name: string (nullable = true)\n |-- Sales: string (nullable = true)\n |-- Quantity: string (nullable = true)\n |-- Discount: string (nullable = true)\n |-- Profit: double (nullable = true)\n |-- Shipping Cost: double (nullable = true)\n |-- Order Priority: string (nullable = true)\n\n"
     ]
    }
   ],
   "source": [
    "# Inspect and Verify Schema\n",
    "df.printSchema()\n"
   ]
  },
  {
   "cell_type": "code",
   "execution_count": 0,
   "metadata": {
    "application/vnd.databricks.v1+cell": {
     "cellMetadata": {
      "byteLimit": 2048000,
      "rowLimit": 10000
     },
     "inputWidgets": {},
     "nuid": "781df9aa-42fd-4f82-a40d-a9661146929b",
     "showTitle": false,
     "tableResultSettingsMap": {},
     "title": ""
    }
   },
   "outputs": [],
   "source": [
    "#Persist Raw Data (Bronze Zone)\n",
    "bronze_zone_path = \"/mnt/bronze/superstore\"\n",
    "df.write.format(\"delta\").option(\"mergeSchema\", \"true\").option(\"delta.columnMapping.mode\", \"name\").mode(\"overwrite\").save(bronze_zone_path)\n"
   ]
  },
  {
   "cell_type": "code",
   "execution_count": 0,
   "metadata": {
    "application/vnd.databricks.v1+cell": {
     "cellMetadata": {
      "byteLimit": 2048000,
      "rowLimit": 10000
     },
     "inputWidgets": {},
     "nuid": "53dcca82-50a9-49c0-a9b7-554fa1befe75",
     "showTitle": false,
     "tableResultSettingsMap": {},
     "title": ""
    }
   },
   "outputs": [
    {
     "output_type": "stream",
     "name": "stdout",
     "output_type": "stream",
     "text": [
      "+------+--------+----------+---------+---------+-----------+-------------+-------+----+-----+-------+-----------+------+------+----------+--------+------------+------------+-----+--------+--------+------+-------------+--------------+\n|Row ID|Order ID|Order Date|Ship Date|Ship Mode|Customer ID|Customer Name|Segment|City|State|Country|Postal Code|Market|Region|Product ID|Category|Sub-Category|Product Name|Sales|Quantity|Discount|Profit|Shipping Cost|Order Priority|\n+------+--------+----------+---------+---------+-----------+-------------+-------+----+-----+-------+-----------+------+------+----------+--------+------------+------------+-----+--------+--------+------+-------------+--------------+\n+------+--------+----------+---------+---------+-----------+-------------+-------+----+-----+-------+-----------+------+------+----------+--------+------------+------------+-----+--------+--------+------+-------------+--------------+\n\n"
     ]
    }
   ],
   "source": [
    "#Perform Data Validation Checks\n",
    "# Check for null values in critical columns\n",
    "\n",
    "from pyspark.sql.functions import col\n",
    "df.filter(col(\"Order ID\").isNull() | col(\"Customer ID\").isNull()).show()\n",
    "\n"
   ]
  },
  {
   "cell_type": "code",
   "execution_count": 0,
   "metadata": {
    "application/vnd.databricks.v1+cell": {
     "cellMetadata": {
      "byteLimit": 2048000,
      "rowLimit": 10000
     },
     "inputWidgets": {},
     "nuid": "fee7e72c-ab5b-475a-b0b5-05c8dd87d362",
     "showTitle": false,
     "tableResultSettingsMap": {},
     "title": ""
    }
   },
   "outputs": [],
   "source": [
    "#Deduplicate Raw Data\n",
    "df = df.dropDuplicates([\"Order ID\", \"Row ID\"])\n"
   ]
  },
  {
   "cell_type": "code",
   "execution_count": 0,
   "metadata": {
    "application/vnd.databricks.v1+cell": {
     "cellMetadata": {
      "byteLimit": 2048000,
      "rowLimit": 10000
     },
     "inputWidgets": {},
     "nuid": "47ad2c9e-db35-4349-9ebe-1e7e545a4433",
     "showTitle": false,
     "tableResultSettingsMap": {},
     "title": ""
    }
   },
   "outputs": [],
   "source": [
    "#Save Cleaned Raw Data in Bronze Zone\n",
    "df.write.format(\"delta\").mode(\"overwrite\").save(bronze_zone_path)\n"
   ]
  },
  {
   "cell_type": "code",
   "execution_count": 0,
   "metadata": {
    "application/vnd.databricks.v1+cell": {
     "cellMetadata": {
      "byteLimit": 2048000,
      "rowLimit": 10000
     },
     "inputWidgets": {},
     "nuid": "34bb9240-b10b-4c4a-b6fb-9049c28f1700",
     "showTitle": false,
     "tableResultSettingsMap": {},
     "title": ""
    }
   },
   "outputs": [],
   "source": [
    "dbutils.notebook.exit(bronze_zone_path)\n"
   ]
  }
 ],
 "metadata": {
  "application/vnd.databricks.v1+notebook": {
   "computePreferences": null,
   "dashboards": [],
   "environmentMetadata": {
    "base_environment": "",
    "client": "1"
   },
   "language": "python",
   "notebookMetadata": {
    "pythonIndentUnit": 4
   },
   "notebookName": "Project 1 Ingestion (Brone Zone)",
   "widgets": {}
  },
  "language_info": {
   "name": "python"
  }
 },
 "nbformat": 4,
 "nbformat_minor": 0
}