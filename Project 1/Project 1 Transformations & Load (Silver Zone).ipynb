{
 "cells": [
  {
   "cell_type": "code",
   "execution_count": 0,
   "metadata": {
    "application/vnd.databricks.v1+cell": {
     "cellMetadata": {
      "byteLimit": 2048000,
      "rowLimit": 10000
     },
     "inputWidgets": {},
     "nuid": "4d6e2c36-b93e-4423-8fd6-9efef6a66761",
     "showTitle": false,
     "tableResultSettingsMap": {},
     "title": ""
    }
   },
   "outputs": [],
   "source": [
    "bronze_path = \"/mnt/bronze/superstore\"\n",
    "df_bronze = spark.read.format(\"delta\").load(bronze_path)\n"
   ]
  },
  {
   "cell_type": "code",
   "execution_count": 0,
   "metadata": {
    "application/vnd.databricks.v1+cell": {
     "cellMetadata": {
      "byteLimit": 2048000,
      "rowLimit": 10000
     },
     "inputWidgets": {},
     "nuid": "8aa19fd6-2415-4d06-80f7-3e13c98ca458",
     "showTitle": false,
     "tableResultSettingsMap": {},
     "title": ""
    }
   },
   "outputs": [
    {
     "output_type": "stream",
     "name": "stdout",
     "output_type": "stream",
     "text": [
      "+------+------------+----------+----------+--------------+-----------+-----------------+-----------+--------------+---------------+--------------------+-----------+------+------+----------------+---------------+------------+--------------------+------+--------+--------+--------+-------------+--------------+------+------------------+\n|Row_ID|    Order ID|Order Date| Ship Date|     Ship Mode|Customer ID|    Customer Name|    Segment|          City|          State|             Country|Postal Code|Market|Region|      Product ID|       Category|Sub-Category|        Product Name| Sales|Quantity|Discount|  Profit|Shipping Cost|Order Priority|Row ID|         TotalCost|\n+------+------------+----------+----------+--------------+-----------+-----------------+-----------+--------------+---------------+--------------------+-----------+------+------+----------------+---------------+------------+--------------------+------+--------+--------+--------+-------------+--------------+------+------------------+\n|  NULL|AE-2011-9160|2011-10-03|2011-10-07|Standard Class|    PO-8865|Patrick O'Donnell|   Consumer|         Ajman|         'Ajman|United Arab Emirates|       NULL|  EMEA|  EMEA|TEC-EPS-10004171|     Technology|    Machines|Epson Calculator,...|78.408|       6|     0.7| -88.992|         3.87|        Medium| 48312|             167.4|\n|  NULL|AE-2013-1130|2013-10-14|2013-10-14|      Same Day|    EB-4110|   Eugene Barchas|   Consumer|Ras al Khaymah|Ra's Al Khaymah|United Arab Emirates|       NULL|  EMEA|  EMEA|OFF-ACC-10004278|Office Supplies|   Fasteners|Accos Paper Clips...| 4.248|       1|     0.7|  -4.692|          0.1|          High| 47297| 8.940000000000001|\n|  NULL|AE-2014-3830|2014-12-13|2014-12-19|Standard Class|    GH-4665|      Greg Hansen|   Consumer|Ras al Khaymah|Ra's Al Khaymah|United Arab Emirates|       NULL|  EMEA|  EMEA|OFF-AVE-10000357|Office Supplies|     Binders|Avery Binder Cove...| 3.159|       1|     0.7|  -4.971|         0.25|        Medium| 43923| 8.129999999999999|\n|  NULL|AE-2014-3830|2014-12-13|2014-12-19|Standard Class|    GH-4665|      Greg Hansen|   Consumer|Ras al Khaymah|Ra's Al Khaymah|United Arab Emirates|       NULL|  EMEA|  EMEA|TEC-MOT-10001535|     Technology|      Phones|Motorola Headset,...|95.796|       4|     0.7|-156.564|         6.73|        Medium| 43926|            252.36|\n|  NULL|AG-2011-1390|2011-08-16|2011-08-21|Standard Class|    DH-3675|    Duane Huffman|Home Office|        Bejaia|         Bejaia|             Algeria|       NULL|Africa|Africa|OFF-IBI-10000440|Office Supplies|     Binders|Ibico Binder Cove...| 26.22|       2|       0|     1.8|         2.41|        Medium| 42656|24.419999999999998|\n+------+------------+----------+----------+--------------+-----------+-----------------+-----------+--------------+---------------+--------------------+-----------+------+------+----------------+---------------+------------+--------------------+------+--------+--------+--------+-------------+--------------+------+------------------+\nonly showing top 5 rows\n\n"
     ]
    }
   ],
   "source": [
    "#Add Total Cost Column\n",
    "from pyspark.sql.functions import col\n",
    "\n",
    "df_transformed = df_bronze.withColumn(\"TotalCost\", col(\"Sales\") - col(\"Profit\"))\n",
    "df_transformed.show(5)"
   ]
  },
  {
   "cell_type": "code",
   "execution_count": 0,
   "metadata": {
    "application/vnd.databricks.v1+cell": {
     "cellMetadata": {
      "byteLimit": 2048000,
      "rowLimit": 10000
     },
     "inputWidgets": {},
     "nuid": "a4270e16-2eae-44ed-8ec2-57d001220f0d",
     "showTitle": false,
     "tableResultSettingsMap": {},
     "title": ""
    }
   },
   "outputs": [
    {
     "output_type": "stream",
     "name": "stdout",
     "output_type": "stream",
     "text": [
      "+------+------------+----------+----------+--------------+-----------+-----------------+-----------+--------------+---------------+--------------------+-----------+------+------+----------------+---------------+------------+--------------------+------+--------+--------+--------+-------------+--------------+------+------------------+\n|Row_ID|    Order ID|Order Date| Ship Date|     Ship Mode|Customer ID|    Customer Name|    Segment|          City|          State|             Country|Postal Code|Market|Region|      Product ID|       Category|Sub-Category|        Product Name| Sales|Quantity|Discount|  Profit|Shipping Cost|Order Priority|Row ID|         TotalCost|\n+------+------------+----------+----------+--------------+-----------+-----------------+-----------+--------------+---------------+--------------------+-----------+------+------+----------------+---------------+------------+--------------------+------+--------+--------+--------+-------------+--------------+------+------------------+\n|  NULL|AE-2011-9160|2011-10-03|2011-10-07|Standard Class|    PO-8865|Patrick O'Donnell|   Consumer|         Ajman|         'Ajman|United Arab Emirates|       NULL|  EMEA|  EMEA|TEC-EPS-10004171|     Technology|    Machines|Epson Calculator,...|78.408|       6|     0.7| -88.992|         3.87|        Medium| 48312|             167.4|\n|  NULL|AE-2013-1130|2013-10-14|2013-10-14|      Same Day|    EB-4110|   Eugene Barchas|   Consumer|Ras al Khaymah|Ra's Al Khaymah|United Arab Emirates|       NULL|  EMEA|  EMEA|OFF-ACC-10004278|Office Supplies|   Fasteners|Accos Paper Clips...| 4.248|       1|     0.7|  -4.692|          0.1|          High| 47297| 8.940000000000001|\n|  NULL|AE-2014-3830|2014-12-13|2014-12-19|Standard Class|    GH-4665|      Greg Hansen|   Consumer|Ras al Khaymah|Ra's Al Khaymah|United Arab Emirates|       NULL|  EMEA|  EMEA|OFF-AVE-10000357|Office Supplies|     Binders|Avery Binder Cove...| 3.159|       1|     0.7|  -4.971|         0.25|        Medium| 43923| 8.129999999999999|\n|  NULL|AE-2014-3830|2014-12-13|2014-12-19|Standard Class|    GH-4665|      Greg Hansen|   Consumer|Ras al Khaymah|Ra's Al Khaymah|United Arab Emirates|       NULL|  EMEA|  EMEA|TEC-MOT-10001535|     Technology|      Phones|Motorola Headset,...|95.796|       4|     0.7|-156.564|         6.73|        Medium| 43926|            252.36|\n|  NULL|AG-2011-1390|2011-08-16|2011-08-21|Standard Class|    DH-3675|    Duane Huffman|Home Office|        Bejaia|         Bejaia|             Algeria|       NULL|Africa|Africa|OFF-IBI-10000440|Office Supplies|     Binders|Ibico Binder Cove...| 26.22|       2|       0|     1.8|         2.41|        Medium| 42656|24.419999999999998|\n+------+------------+----------+----------+--------------+-----------+-----------------+-----------+--------------+---------------+--------------------+-----------+------+------+----------------+---------------+------------+--------------------+------+--------+--------+--------+-------------+--------------+------+------------------+\nonly showing top 5 rows\n\n"
     ]
    }
   ],
   "source": [
    "#Convert Sales and Profit to Float\n",
    "\n",
    "df_transformed = df_transformed.withColumn(\"Sales\", col(\"Sales\").cast(\"float\"))\n",
    "df_transformed = df_transformed.withColumn(\"Profit\", col(\"Profit\").cast(\"float\"))\n",
    "\n",
    "df_transformed.show(5)"
   ]
  },
  {
   "cell_type": "code",
   "execution_count": 0,
   "metadata": {
    "application/vnd.databricks.v1+cell": {
     "cellMetadata": {
      "byteLimit": 2048000,
      "rowLimit": 10000
     },
     "inputWidgets": {},
     "nuid": "d6ed32ce-cb3c-40d1-baf7-0f2b01e98e01",
     "showTitle": false,
     "tableResultSettingsMap": {},
     "title": ""
    }
   },
   "outputs": [
    {
     "output_type": "stream",
     "name": "stdout",
     "output_type": "stream",
     "text": [
      "+------+------------+----------+----------+--------------+-----------+------------------+-----------+-----------+-----------+-------+-----------+------+------+----------------+---------------+------------+--------------------+------+--------+--------+------+-------------+--------------+------+------------------+\n|Row_ID|    Order ID|Order Date| Ship Date|     Ship Mode|Customer ID|     Customer Name|    Segment|       City|      State|Country|Postal Code|Market|Region|      Product ID|       Category|Sub-Category|        Product Name| Sales|Quantity|Discount|Profit|Shipping Cost|Order Priority|Row ID|         TotalCost|\n+------+------------+----------+----------+--------------+-----------+------------------+-----------+-----------+-----------+-------+-----------+------+------+----------------+---------------+------------+--------------------+------+--------+--------+------+-------------+--------------+------+------------------+\n|  NULL|AG-2011-1390|2011-08-16|2011-08-21|Standard Class|    DH-3675|     Duane Huffman|Home Office|     Bejaia|     Bejaia|Algeria|       NULL|Africa|Africa|OFF-SAN-10001237|Office Supplies|       Paper|SanDisk Cards & E...|581.04|      12|       0|220.68|        35.32|        Medium| 42655|360.35999999999996|\n|  NULL|AG-2011-1440|2011-12-15|2011-12-20|Standard Class|    DB-3210|       Dean Braden|   Consumer|Constantine|Constantine|Algeria|       NULL|Africa|Africa|OFF-AVE-10004909|Office Supplies|     Binders|Avery 3-Hole Punc...| 58.74|       2|       0| 20.52|         3.04|        Medium| 48096|             38.22|\n|  NULL| AG-2011-380|2011-03-03|2011-03-09|Standard Class|    CC-2370|Christopher Conant|   Consumer|    Algiers|      Alger|Algeria|       NULL|Africa|Africa|FUR-ELD-10003131|      Furniture| Furnishings|Eldon Frame, Durable|113.28|       1|       0| 29.43|         9.51|        Medium| 44980|             83.85|\n|  NULL|AG-2011-4410|2011-11-02|2011-11-04|   First Class|    JH-5985|       Joseph Holt|   Consumer|     Bejaia|     Bejaia|Algeria|       NULL|Africa|Africa|OFF-EAT-10003338|Office Supplies|       Paper|Eaton Message Boo...| 24.72|       1|       0| 10.86|         4.29|          High| 47723|             13.86|\n|  NULL| AG-2011-450|2011-11-07|2011-11-11|Standard Class|    BC-1125|     Becky Castell|Home Office|    Algiers|      Alger|Algeria|       NULL|Africa|Africa|OFF-STO-10003604|Office Supplies|   Fasteners|Stockwell Staples...| 10.92|       1|       0|  4.14|         1.05|        Medium| 43718|              6.78|\n+------+------------+----------+----------+--------------+-----------+------------------+-----------+-----------+-----------+-------+-----------+------+------+----------------+---------------+------------+--------------------+------+--------+--------+------+-------------+--------------+------+------------------+\nonly showing top 5 rows\n\n"
     ]
    }
   ],
   "source": [
    "#Filter Rows with Zero or Negative Profit\n",
    "\n",
    "df_transformed = df_transformed.filter(col(\"Profit\") > 0)\n",
    "df_transformed.show(5)"
   ]
  },
  {
   "cell_type": "code",
   "execution_count": 0,
   "metadata": {
    "application/vnd.databricks.v1+cell": {
     "cellMetadata": {
      "byteLimit": 2048000,
      "rowLimit": 10000
     },
     "inputWidgets": {},
     "nuid": "746fdd25-6505-4dee-ba88-968a17e41ec1",
     "showTitle": false,
     "tableResultSettingsMap": {},
     "title": ""
    }
   },
   "outputs": [
    {
     "output_type": "stream",
     "name": "stdout",
     "output_type": "stream",
     "text": [
      "+----------+------+------------------+------------------+-------------+-----------------+\n|  Category|Region|        TotalSales|       TotalProfit|TotalQuantity|    TotalDiscount|\n+----------+------+------------------+------------------+-------------+-----------------+\n| Furniture|Canada|10595.279964447021|2613.2400000000002|           78|              0.0|\n|Technology|  EMEA|  300854.583026886|         17494.443|         2259|189.1000056862831|\n| Furniture|  East| 205540.3473367691| 2501.816200000002|         2151| 90.6000018119812|\n|Technology|Africa| 322367.0430994034|44129.492999999995|         2031|143.1999975964427|\n|Technology|  East| 264872.0816922188|        47439.5576|         1927|76.30000080168247|\n+----------+------+------------------+------------------+-------------+-----------------+\nonly showing top 5 rows\n\n"
     ]
    }
   ],
   "source": [
    "from pyspark.sql.functions import col, sum\n",
    "#Group by Category and Region and perform aggregation\n",
    "\n",
    "# Step 1: Clean the data by filtering out rows with non-numeric values in Sales, Quantity, or Discount\n",
    "df_clean = df_bronze.filter(\n",
    "    (col(\"Sales\").rlike(\"^[0-9]*\\.?[0-9]+$\")) &  # Allow decimal numbers in Sales\n",
    "    (col(\"Quantity\").rlike(\"^[0-9]+$\")) &  # Allow only integers in Quantity\n",
    "    (col(\"Discount\").rlike(\"^[0-9]*\\.?[0-9]+$\"))  # Allow decimal numbers in Discount\n",
    ")\n",
    "\n",
    "# Step 2: Cast the cleaned columns to appropriate numeric types\n",
    "df_clean = df_clean.withColumn(\"Sales\", col(\"Sales\").cast(\"float\")) \\\n",
    "                   .withColumn(\"Quantity\", col(\"Quantity\").cast(\"int\")) \\\n",
    "                   .withColumn(\"Discount\", col(\"Discount\").cast(\"float\"))\n",
    "\n",
    "# Step 3: Drop rows with any null values in the numeric columns (after casting)\n",
    "df_clean = df_clean.dropna(subset=[\"Sales\", \"Quantity\", \"Discount\", \"Profit\"])\n",
    "\n",
    "# Step 4: Group by Category and Region and perform aggregation\n",
    "df_grouped = df_clean.groupBy(\"Category\", \"Region\") \\\n",
    "    .agg(\n",
    "        sum(\"Sales\").alias(\"TotalSales\"),\n",
    "        sum(\"Profit\").alias(\"TotalProfit\"),\n",
    "        sum(\"Quantity\").alias(\"TotalQuantity\"),\n",
    "        sum(\"Discount\").alias(\"TotalDiscount\")\n",
    "    )\n",
    "\n",
    "# Step 5: Show the transformed data\n",
    "df_grouped.show(5)\n"
   ]
  },
  {
   "cell_type": "code",
   "execution_count": 0,
   "metadata": {
    "application/vnd.databricks.v1+cell": {
     "cellMetadata": {
      "byteLimit": 2048000,
      "rowLimit": 10000
     },
     "inputWidgets": {},
     "nuid": "1b1cc1ba-814a-4e32-bfce-2f0879783a27",
     "showTitle": false,
     "tableResultSettingsMap": {},
     "title": ""
    }
   },
   "outputs": [
    {
     "output_type": "stream",
     "name": "stdout",
     "output_type": "stream",
     "text": [
      "+------+------------+----------+----------+--------------+-----------+------------------+-----------+-----------+-----------+-------+-----------+------+------+----------------+---------------+------------+--------------------+------+--------+--------+------+-------------+--------------+------+------------------+------------------+\n|Row_ID|    Order ID|Order Date| Ship Date|     Ship Mode|Customer ID|     Customer Name|    Segment|       City|      State|Country|Postal Code|Market|Region|      Product ID|       Category|Sub-Category|        Product Name| Sales|Quantity|Discount|Profit|Shipping Cost|Order Priority|Row ID|         TotalCost|      ProfitMargin|\n+------+------------+----------+----------+--------------+-----------+------------------+-----------+-----------+-----------+-------+-----------+------+------+----------------+---------------+------------+--------------------+------+--------+--------+------+-------------+--------------+------+------------------+------------------+\n|  NULL|AG-2011-1390|2011-08-16|2011-08-21|Standard Class|    DH-3675|     Duane Huffman|Home Office|     Bejaia|     Bejaia|Algeria|       NULL|Africa|Africa|OFF-SAN-10001237|Office Supplies|       Paper|SanDisk Cards & E...|581.04|      12|       0|220.68|        35.32|        Medium| 42655|360.35999999999996| 37.98017365775751|\n|  NULL|AG-2011-1440|2011-12-15|2011-12-20|Standard Class|    DB-3210|       Dean Braden|   Consumer|Constantine|Constantine|Algeria|       NULL|Africa|Africa|OFF-AVE-10004909|Office Supplies|     Binders|Avery 3-Hole Punc...| 58.74|       2|       0| 20.52|         3.04|        Medium| 48096|             38.22|34.933605501216725|\n|  NULL| AG-2011-380|2011-03-03|2011-03-09|Standard Class|    CC-2370|Christopher Conant|   Consumer|    Algiers|      Alger|Algeria|       NULL|Africa|Africa|FUR-ELD-10003131|      Furniture| Furnishings|Eldon Frame, Durable|113.28|       1|       0| 29.43|         9.51|        Medium| 44980|             83.85| 25.97987343071408|\n|  NULL|AG-2011-4410|2011-11-02|2011-11-04|   First Class|    JH-5985|       Joseph Holt|   Consumer|     Bejaia|     Bejaia|Algeria|       NULL|Africa|Africa|OFF-EAT-10003338|Office Supplies|       Paper|Eaton Message Boo...| 24.72|       1|       0| 10.86|         4.29|          High| 47723|             13.86| 43.93203866640217|\n|  NULL| AG-2011-450|2011-11-07|2011-11-11|Standard Class|    BC-1125|     Becky Castell|Home Office|    Algiers|      Alger|Algeria|       NULL|Africa|Africa|OFF-STO-10003604|Office Supplies|   Fasteners|Stockwell Staples...| 10.92|       1|       0|  4.14|         1.05|        Medium| 43718|              6.78|   37.912086424551|\n+------+------------+----------+----------+--------------+-----------+------------------+-----------+-----------+-----------+-------+-----------+------+------+----------------+---------------+------------+--------------------+------+--------+--------+------+-------------+--------------+------+------------------+------------------+\nonly showing top 5 rows\n\n"
     ]
    }
   ],
   "source": [
    "from pyspark.sql.functions import col\n",
    "\n",
    "# Add a Profit Margin Column \n",
    "df_grouped = df_transformed.withColumn(\"ProfitMargin\", (col(\"Profit\") / col(\"Sales\")) * 100)\n",
    "\n",
    "# Show the result\n",
    "df_grouped.show(5)\n"
   ]
  },
  {
   "cell_type": "code",
   "execution_count": 0,
   "metadata": {
    "application/vnd.databricks.v1+cell": {
     "cellMetadata": {
      "byteLimit": 2048000,
      "rowLimit": 10000
     },
     "inputWidgets": {},
     "nuid": "d34f80d4-e48d-421b-8228-1d24789c8af3",
     "showTitle": false,
     "tableResultSettingsMap": {},
     "title": ""
    }
   },
   "outputs": [
    {
     "output_type": "stream",
     "name": "stdout",
     "output_type": "stream",
     "text": [
      "+------+--------------+----------+----------+--------------+-----------+------------------+--------+-------------------+-------------+-------------+-----------+------+------------+----------------+---------+------------+--------------------+------+--------+--------+-------+-------------+--------------+------+------------------+\n|Row_ID|      Order ID|Order Date| Ship Date|     Ship Mode|Customer ID|     Customer Name| Segment|               City|        State|      Country|Postal Code|Market|      Region|      Product ID| Category|Sub-Category|        Product Name| Sales|Quantity|Discount| Profit|Shipping Cost|Order Priority|Row ID|         TotalCost|\n+------+--------------+----------+----------+--------------+-----------+------------------+--------+-------------------+-------------+-------------+-----------+------+------------+----------------+---------+------------+--------------------+------+--------+--------+-------+-------------+--------------+------+------------------+\n|  NULL|   AG-2011-380|2011-03-03|2011-03-09|Standard Class|    CC-2370|Christopher Conant|Consumer|            Algiers|        Alger|      Algeria|       NULL|Africa|      Africa|FUR-ELD-10003131|Furniture| Furnishings|Eldon Frame, Durable|113.28|       1|       0|  29.43|         9.51|        Medium| 44980|             83.85|\n|  NULL|  CA-2011-4370|2011-09-23|2011-09-30|Standard Class|    DW-3540|         Don Weiss|Consumer|            Toronto|      Ontario|       Canada|       NULL|Canada|      Canada|FUR-DEF-10000622|Furniture| Furnishings|Deflect-O Light B...| 18.99|       1|       0|   6.81|         1.41|        Medium| 46421|             12.18|\n|  NULL|MX-2011-104752|2011-03-11|2011-03-16|Standard Class|   MM-18055|    Michelle Moray|Consumer|Consolaci�n del Sur|Pinar del R�o|         Cuba|       NULL| LATAM|   Caribbean| FUR-FU-10000885|Furniture| Furnishings|Eldon Light Bulb,...| 44.46|       3|       0|    8.4|         3.41|        Medium|  1351|             36.06|\n|  NULL|CA-2011-131002|2011-09-07|2011-09-12|  Second Class|   TB-21400|  Tom Boeckenhauer|Consumer|              Tulsa|     Oklahoma|United States|      74133|    US|     Central| FUR-FU-10004270|Furniture| Furnishings|\"Executive Impres...| 57.69|       3|       0|23.6529|         4.22|          High| 33942|34.037099999999995|\n|  NULL| ID-2014-20205|2014-10-22|2014-10-27|Standard Class|   JC-15340|   Jasper Cacioppo|Consumer|             Lahore|       Punjab|     Pakistan|       NULL|  APAC|Central Asia| FUR-FU-10000394|Furniture| Furnishings|Rubbermaid Photo ...|78.048|       2|     0.2| 26.328|         5.82|        Medium| 22308|             51.72|\n+------+--------------+----------+----------+--------------+-----------+------------------+--------+-------------------+-------------+-------------+-----------+------+------------+----------------+---------+------------+--------------------+------+--------+--------+-------+-------------+--------------+------+------------------+\nonly showing top 5 rows\n\n"
     ]
    }
   ],
   "source": [
    "# Remove Duplicate Rows based on 'Category' and 'Region' \n",
    "df_grouped = df_transformed.dropDuplicates([\"Category\", \"Region\"])\n",
    "\n",
    "df_grouped.show(5)\n"
   ]
  },
  {
   "cell_type": "code",
   "execution_count": 0,
   "metadata": {
    "application/vnd.databricks.v1+cell": {
     "cellMetadata": {
      "byteLimit": 2048000,
      "rowLimit": 10000
     },
     "inputWidgets": {},
     "nuid": "4b3f49a9-0dfd-4772-b453-2dff09ba895c",
     "showTitle": false,
     "tableResultSettingsMap": {},
     "title": ""
    }
   },
   "outputs": [
    {
     "output_type": "stream",
     "name": "stdout",
     "output_type": "stream",
     "text": [
      "+------+------------+----------+----------+--------------+-----------+------------------+-----------+-----------+-----------+-------+-----------+------+------+----------------+---------------+------------+--------------------+----------+--------+--------+-----------+-------------+--------------+------+------------------+\n|Row_ID|    Order ID|Order Date| Ship Date|     Ship Mode|Customer ID|     Customer Name|    Segment|       City|      State|Country|Postal Code|Market|Region|      Product ID|       Category|Sub-Category|        Product Name|TotalSales|Quantity|Discount|TotalProfit|Shipping Cost|Order Priority|Row ID|         TotalCost|\n+------+------------+----------+----------+--------------+-----------+------------------+-----------+-----------+-----------+-------+-----------+------+------+----------------+---------------+------------+--------------------+----------+--------+--------+-----------+-------------+--------------+------+------------------+\n|  NULL|AG-2011-1390|2011-08-16|2011-08-21|Standard Class|    DH-3675|     Duane Huffman|Home Office|     Bejaia|     Bejaia|Algeria|       NULL|Africa|Africa|OFF-SAN-10001237|Office Supplies|       Paper|SanDisk Cards & E...|    581.04|      12|       0|     220.68|        35.32|        Medium| 42655|360.35999999999996|\n|  NULL|AG-2011-1440|2011-12-15|2011-12-20|Standard Class|    DB-3210|       Dean Braden|   Consumer|Constantine|Constantine|Algeria|       NULL|Africa|Africa|OFF-AVE-10004909|Office Supplies|     Binders|Avery 3-Hole Punc...|     58.74|       2|       0|      20.52|         3.04|        Medium| 48096|             38.22|\n|  NULL| AG-2011-380|2011-03-03|2011-03-09|Standard Class|    CC-2370|Christopher Conant|   Consumer|    Algiers|      Alger|Algeria|       NULL|Africa|Africa|FUR-ELD-10003131|      Furniture| Furnishings|Eldon Frame, Durable|    113.28|       1|       0|      29.43|         9.51|        Medium| 44980|             83.85|\n|  NULL|AG-2011-4410|2011-11-02|2011-11-04|   First Class|    JH-5985|       Joseph Holt|   Consumer|     Bejaia|     Bejaia|Algeria|       NULL|Africa|Africa|OFF-EAT-10003338|Office Supplies|       Paper|Eaton Message Boo...|     24.72|       1|       0|      10.86|         4.29|          High| 47723|             13.86|\n|  NULL| AG-2011-450|2011-11-07|2011-11-11|Standard Class|    BC-1125|     Becky Castell|Home Office|    Algiers|      Alger|Algeria|       NULL|Africa|Africa|OFF-STO-10003604|Office Supplies|   Fasteners|Stockwell Staples...|     10.92|       1|       0|       4.14|         1.05|        Medium| 43718|              6.78|\n+------+------------+----------+----------+--------------+-----------+------------------+-----------+-----------+-----------+-------+-----------+------+------+----------------+---------------+------------+--------------------+----------+--------+--------+-----------+-------------+--------------+------+------------------+\nonly showing top 5 rows\n\n"
     ]
    }
   ],
   "source": [
    "#Rename Columns for Clarity\n",
    "df_grouped = df_transformed.withColumnRenamed(\"Sales\", \"TotalSales\") \\\n",
    "                                .withColumnRenamed(\"Profit\", \"TotalProfit\")\n",
    "                                \n",
    "df_grouped.show(5)"
   ]
  },
  {
   "cell_type": "code",
   "execution_count": 0,
   "metadata": {
    "application/vnd.databricks.v1+cell": {
     "cellMetadata": {
      "byteLimit": 2048000,
      "rowLimit": 10000
     },
     "inputWidgets": {},
     "nuid": "c15d3d09-c580-459f-bace-10bf69e35179",
     "showTitle": false,
     "tableResultSettingsMap": {},
     "title": ""
    }
   },
   "outputs": [
    {
     "output_type": "stream",
     "name": "stdout",
     "output_type": "stream",
     "text": [
      "+------+------------+----------+----------+--------------+-----------+-----------------+-----------+--------------+---------------+--------------------+-----------+------+------+----------------+---------------+------------+--------------------+------+--------+--------+--------+-------------+--------------+------+----+\n|Row_ID|    Order ID|Order Date| Ship Date|     Ship Mode|Customer ID|    Customer Name|    Segment|          City|          State|             Country|Postal Code|Market|Region|      Product ID|       Category|Sub-Category|        Product Name| Sales|Quantity|Discount|  Profit|Shipping Cost|Order Priority|Row ID|Year|\n+------+------------+----------+----------+--------------+-----------+-----------------+-----------+--------------+---------------+--------------------+-----------+------+------+----------------+---------------+------------+--------------------+------+--------+--------+--------+-------------+--------------+------+----+\n|  NULL|AE-2011-9160|2011-10-03|2011-10-07|Standard Class|    PO-8865|Patrick O'Donnell|   Consumer|         Ajman|         'Ajman|United Arab Emirates|       NULL|  EMEA|  EMEA|TEC-EPS-10004171|     Technology|    Machines|Epson Calculator,...|78.408|       6|     0.7| -88.992|         3.87|        Medium| 48312|2011|\n|  NULL|AE-2013-1130|2013-10-14|2013-10-14|      Same Day|    EB-4110|   Eugene Barchas|   Consumer|Ras al Khaymah|Ra's Al Khaymah|United Arab Emirates|       NULL|  EMEA|  EMEA|OFF-ACC-10004278|Office Supplies|   Fasteners|Accos Paper Clips...| 4.248|       1|     0.7|  -4.692|          0.1|          High| 47297|2013|\n|  NULL|AE-2014-3830|2014-12-13|2014-12-19|Standard Class|    GH-4665|      Greg Hansen|   Consumer|Ras al Khaymah|Ra's Al Khaymah|United Arab Emirates|       NULL|  EMEA|  EMEA|OFF-AVE-10000357|Office Supplies|     Binders|Avery Binder Cove...| 3.159|       1|     0.7|  -4.971|         0.25|        Medium| 43923|2014|\n|  NULL|AE-2014-3830|2014-12-13|2014-12-19|Standard Class|    GH-4665|      Greg Hansen|   Consumer|Ras al Khaymah|Ra's Al Khaymah|United Arab Emirates|       NULL|  EMEA|  EMEA|TEC-MOT-10001535|     Technology|      Phones|Motorola Headset,...|95.796|       4|     0.7|-156.564|         6.73|        Medium| 43926|2014|\n|  NULL|AG-2011-1390|2011-08-16|2011-08-21|Standard Class|    DH-3675|    Duane Huffman|Home Office|        Bejaia|         Bejaia|             Algeria|       NULL|Africa|Africa|OFF-IBI-10000440|Office Supplies|     Binders|Ibico Binder Cove...| 26.22|       2|       0|     1.8|         2.41|        Medium| 42656|2011|\n+------+------------+----------+----------+--------------+-----------+-----------------+-----------+--------------+---------------+--------------------+-----------+------+------+----------------+---------------+------------+--------------------+------+--------+--------+--------+-------------+--------------+------+----+\nonly showing top 5 rows\n\n"
     ]
    }
   ],
   "source": [
    "from pyspark.sql.functions import col, year, to_date\n",
    "\n",
    "# Add a Year Column \n",
    "df_grouped = df_bronze.withColumn(\"Year\", year(to_date(col(\"Order Date\"), \"MM/dd/yyyy\")))\n",
    "\n",
    "# Show the result\n",
    "df_grouped.show(5)\n"
   ]
  },
  {
   "cell_type": "code",
   "execution_count": 0,
   "metadata": {
    "application/vnd.databricks.v1+cell": {
     "cellMetadata": {
      "byteLimit": 2048000,
      "rowLimit": 10000
     },
     "inputWidgets": {},
     "nuid": "23f5db04-8fd3-49b2-bbaf-6355306dc34e",
     "showTitle": false,
     "tableResultSettingsMap": {},
     "title": ""
    }
   },
   "outputs": [
    {
     "output_type": "stream",
     "name": "stdout",
     "output_type": "stream",
     "text": [
      "+----------+-------+----+----------+------------------+-------------+------------------+\n|  Category| Region|Year|TotalSales|       TotalProfit|TotalQuantity|     TotalDiscount|\n+----------+-------+----+----------+------------------+-------------+------------------+\n| Furniture|Oceania|2012|100519.008| 8623.818000000001|        607.0|26.199999999999978|\n|Technology| Africa|2012| 64734.582| 6320.741999999999|        404.0|36.699999999999996|\n|Technology|  North|2012|126353.563|25098.863000000005|        809.0| 7.377999999999993|\n| Furniture| Canada|2012|   1600.68|            290.19|         16.0|               0.0|\n|Technology|Oceania|2012| 89761.767|         14203.827|        688.0|23.499999999999986|\n+----------+-------+----+----------+------------------+-------------+------------------+\nonly showing top 5 rows\n\n"
     ]
    }
   ],
   "source": [
    "from pyspark.sql.functions import col, year, to_date, sum\n",
    "#Filter the Data for a Specific Year\n",
    "\n",
    "# Step 1: Add the Year Column to the Original DataFrame\n",
    "df = df_bronze.withColumn(\"Year\", year(to_date(col(\"Order Date\"), \"MM/dd/yyyy\")))\n",
    "\n",
    "# Step 2: Perform the aggregation including 'Year'\n",
    "df_transformed = df.groupBy(\"Category\", \"Region\", \"Year\") \\\n",
    "    .agg(\n",
    "        sum(\"Sales\").alias(\"TotalSales\"),\n",
    "        sum(\"Profit\").alias(\"TotalProfit\"),\n",
    "        sum(\"Quantity\").alias(\"TotalQuantity\"),\n",
    "        sum(\"Discount\").alias(\"TotalDiscount\")\n",
    "    )\n",
    "\n",
    "# Step 3: Filter the Data for a Specific Year\n",
    "df_grouped = df_transformed.filter(col(\"Year\") == 2012)\n",
    "\n",
    "# Show the result\n",
    "df_grouped.show(5)\n"
   ]
  },
  {
   "cell_type": "code",
   "execution_count": 0,
   "metadata": {
    "application/vnd.databricks.v1+cell": {
     "cellMetadata": {
      "byteLimit": 2048000,
      "rowLimit": 10000
     },
     "inputWidgets": {},
     "nuid": "06c33e15-c25d-4ddf-ac3a-2634c26ed683",
     "showTitle": false,
     "tableResultSettingsMap": {},
     "title": ""
    }
   },
   "outputs": [
    {
     "output_type": "stream",
     "name": "stdout",
     "output_type": "stream",
     "text": [
      "+---------------+-------+----+------------------+------------------+------------------+------------------+\n|       Category| Region|Year|        TotalSales|       TotalProfit|     TotalQuantity|     TotalDiscount|\n+---------------+-------+----+------------------+------------------+------------------+------------------+\n|     Technology|Central|2014|343261.71891999996| 46266.45321999999|            2600.0| 93.55999999999997|\n|Office Supplies|Central|2014| 313521.1169999999|36457.128400000016|          9564.338| 406.1000000000015|\n|     Technology|Central|2013|      281501.66124| 39571.08374000002|2230.7799999999997| 76.50000000000003|\n|      Furniture|Central|2014|281108.88969999994|15576.571300000007|          2778.252|129.51999999999995|\n|Office Supplies|Central|2013|249453.54200000004|36849.007399999995|          7735.108|285.80000000000035|\n|     Technology|Central|2012|237291.81162000002|       31373.85432|            1791.0| 61.14200000000001|\n|      Furniture|Central|2013|        232113.698|         20804.504|          2187.344|103.06999999999987|\n|     Technology|  South|2014|      208820.03832|16919.977120000003|            1617.0| 61.73200000000001|\n|      Furniture|Central|2012|183778.99949999998| 5231.084800000003|           1876.94|  85.1399999999999|\n|Office Supplies|Central|2012|        180068.292|26988.422599999998| 6003.083999999999|198.40000000000006|\n|Office Supplies|Central|2011|177982.10699999996|         21178.898|            5032.1|215.58800000000008|\n|     Technology|Central|2011|176379.68885999997|       18323.03876|            1370.0|47.118000000000016|\n|      Furniture|  South|2014|       168929.8605| 8636.212800000001|2001.1680000000001| 78.69999999999996|\n|Office Supplies|  South|2014|166334.93200000003|        25971.4154|          5738.816|235.09399999999994|\n|     Technology|  North|2014|      164019.24052|       31386.99052|            1225.0|17.203999999999986|\n|      Furniture|Central|2011|162401.97609999997|13228.075600000002|          1773.484|             77.86|\n|     Technology|  South|2013|      154303.72908| 17870.09517999999|           1288.56|            54.104|\n|      Furniture|  South|2013|148325.80250000002|3220.7773000000007|            1451.0| 71.05000000000001|\n|Office Supplies|  South|2013|140610.47499999995|        18686.1719|          4546.386|             189.7|\n|     Technology|Oceania|2014|        136691.307|13990.887000000002|             923.0|44.599999999999966|\n+---------------+-------+----+------------------+------------------+------------------+------------------+\nonly showing top 20 rows\n\n"
     ]
    }
   ],
   "source": [
    "#Sort Data by Total Sales\n",
    "df_grouped = df_transformed.orderBy(col(\"TotalSales\").desc())\n",
    "df_grouped.show()"
   ]
  },
  {
   "cell_type": "code",
   "execution_count": 0,
   "metadata": {
    "application/vnd.databricks.v1+cell": {
     "cellMetadata": {
      "byteLimit": 2048000,
      "rowLimit": 10000
     },
     "inputWidgets": {},
     "nuid": "9bc1a90e-64c7-4266-a8c7-da528d1a4d53",
     "showTitle": false,
     "tableResultSettingsMap": {},
     "title": ""
    }
   },
   "outputs": [
    {
     "output_type": "stream",
     "name": "stdout",
     "output_type": "stream",
     "text": [
      "+---------------+-------+----+------------------+------------------+------------------+------------------+------------+\n|       Category| Region|Year|        TotalSales|       TotalProfit|     TotalQuantity|     TotalDiscount|HighDiscount|\n+---------------+-------+----+------------------+------------------+------------------+------------------+------------+\n|     Technology|Central|2014|343261.71891999996| 46266.45321999999|            2600.0| 93.55999999999997|        true|\n|Office Supplies|Central|2014| 313521.1169999999|36457.128400000016|          9564.338| 406.1000000000015|        true|\n|     Technology|Central|2013|      281501.66124| 39571.08374000002|2230.7799999999997| 76.50000000000003|        true|\n|      Furniture|Central|2014|281108.88969999994|15576.571300000007|          2778.252|129.51999999999995|        true|\n|Office Supplies|Central|2013|249453.54200000004|36849.007399999995|          7735.108|285.80000000000035|        true|\n+---------------+-------+----+------------------+------------------+------------------+------------------+------------+\nonly showing top 5 rows\n\n"
     ]
    }
   ],
   "source": [
    "#\n",
    "df_final = df_grouped.withColumn(\"HighDiscount\", col(\"TotalDiscount\") > 50)\n",
    "df_final.show(5)"
   ]
  },
  {
   "cell_type": "code",
   "execution_count": 0,
   "metadata": {
    "application/vnd.databricks.v1+cell": {
     "cellMetadata": {
      "byteLimit": 2048000,
      "rowLimit": 10000
     },
     "inputWidgets": {},
     "nuid": "611fcef3-c031-4956-b4e3-08f04f6554a7",
     "showTitle": false,
     "tableResultSettingsMap": {},
     "title": ""
    }
   },
   "outputs": [],
   "source": [
    "#Save Transformed Data in Silver Zone\n",
    "silver_zone_path = \"/mnt/silver/superstore\"\n",
    "df_final.write.format(\"delta\").mode(\"overwrite\").save(silver_zone_path)\n",
    "\n",
    "\n"
   ]
  },
  {
   "cell_type": "code",
   "execution_count": 0,
   "metadata": {
    "application/vnd.databricks.v1+cell": {
     "cellMetadata": {
      "byteLimit": 2048000,
      "rowLimit": 10000
     },
     "inputWidgets": {},
     "nuid": "4f3cd082-6e6d-425f-b99f-d58a08d85ed8",
     "showTitle": false,
     "tableResultSettingsMap": {},
     "title": ""
    }
   },
   "outputs": [],
   "source": [
    "dbutils.notebook.exit(silver_zone_path)\n"
   ]
  }
 ],
 "metadata": {
  "application/vnd.databricks.v1+notebook": {
   "computePreferences": null,
   "dashboards": [],
   "environmentMetadata": {
    "base_environment": "",
    "client": "1"
   },
   "language": "python",
   "notebookMetadata": {
    "pythonIndentUnit": 4
   },
   "notebookName": "Project 1 Transformations & Load (Silver Zone)",
   "widgets": {}
  },
  "language_info": {
   "name": "python"
  }
 },
 "nbformat": 4,
 "nbformat_minor": 0
}